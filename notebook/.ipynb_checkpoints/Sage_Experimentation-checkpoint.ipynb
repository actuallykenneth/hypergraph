{
 "cells": [
  {
   "cell_type": "code",
   "execution_count": 54,
   "metadata": {},
   "outputs": [],
   "source": [
    "# Our original hypergraph1 and hypergraph2\n",
    "H1 = Hypergraph([\n",
    "        ['a','b','c'],\n",
    "        ['a','b'],\n",
    "        ['a','b','c','d'],\n",
    "        [],\n",
    "        ['e','d'],\n",
    "        ['a','d','e']\n",
    "    ])\n",
    "H2 = Hypergraph([\n",
    "        [],\n",
    "        ['f','g','h'],\n",
    "        ['f','g'],\n",
    "        ['i','j'],\n",
    "        ['f','g','h','i'],\n",
    "        ['f','i','j']\n",
    "    ])"
   ]
  },
  {
   "cell_type": "code",
   "execution_count": 105,
   "metadata": {},
   "outputs": [
    {
     "data": {
      "text/plain": [
       "{'A': 'Z',\n",
       " 'B': 'Y',\n",
       " 'C': 'X',\n",
       " 'D': 'W',\n",
       " 'E': 'V',\n",
       " 'F': 'U',\n",
       " 'G': 'T',\n",
       " 'H': 'S',\n",
       " 'I': 'R',\n",
       " 'J': 'Q',\n",
       " 'K': 'P'}"
      ]
     },
     "execution_count": 105,
     "metadata": {},
     "output_type": "execute_result"
    }
   ],
   "source": [
    "N1 = [\n",
    "        [],\n",
    "        ['A','H','I','K'],\n",
    "        ['A','H'],\n",
    "        ['E','H'],\n",
    "        ['A','E','H','K'],\n",
    "        ['A','D','J'],\n",
    "        ['C','E','K'],\n",
    "        ['E','F','I'],\n",
    "        ['D','J'],\n",
    "        ['B','C'],\n",
    "        ['B','F','I','K'],\n",
    "        ['B','D','G'],\n",
    "        ['C','K'],\n",
    "        ['C','G'],\n",
    "        ['G','J'],\n",
    "        ['G']\n",
    "    ]\n",
    "H1 = Hypergraph(L1)\n",
    "\n",
    "N2 = [\n",
    "        ['T','Q'],\n",
    "        ['Y','W','T'],\n",
    "        ['W','Q'],\n",
    "        ['Z','W','Q'],\n",
    "        ['Z','S'],\n",
    "        ['X','T'],\n",
    "        ['Y','U','R','P'],\n",
    "        ['V','U','R'],\n",
    "        ['Z','V','S','P'],\n",
    "        ['Z','S','R','P'],\n",
    "        ['X','P'],\n",
    "        ['Y','X'],\n",
    "        ['X','V','P'],\n",
    "        ['V','S'],\n",
    "        [],\n",
    "        ['T']\n",
    "    ]\n",
    "\n",
    "\n",
    "\n",
    "\n",
    "\n",
    "\n",
    "H2 = Hypergraph(L2)\n",
    "H1.is_isomorphic(H2, certificate=True)"
   ]
  },
  {
   "cell_type": "code",
   "execution_count": 86,
   "metadata": {},
   "outputs": [
    {
     "data": {
      "text/plain": [
       "[['T', 'Q'],\n",
       " ['Y', 'W', 'T'],\n",
       " ['W', 'Q'],\n",
       " ['Z', 'W', 'Q'],\n",
       " ['Z', 'S'],\n",
       " ['X', 'T'],\n",
       " ['Y', 'U', 'R', 'P'],\n",
       " ['V', 'U', 'R'],\n",
       " ['Z', 'V', 'S', 'P'],\n",
       " ['Z', 'S', 'R', 'P'],\n",
       " ['X', 'P'],\n",
       " ['Y', 'X'],\n",
       " ['X', 'V', 'P'],\n",
       " ['V', 'S'],\n",
       " [],\n",
       " ['T']]"
      ]
     },
     "execution_count": 86,
     "metadata": {},
     "output_type": "execute_result"
    }
   ],
   "source": [
    "new_list = []\n",
    "for i, row in enumerate(Nx):\n",
    "    for element in row:\n",
    "        "
   ]
  },
  {
   "cell_type": "code",
   "execution_count": 109,
   "metadata": {},
   "outputs": [],
   "source": [
    "\n",
    "Nx = [\n",
    "    ['0','1'],\n",
    "    ['1']\n",
    "]\n",
    "new_list = [[] for i in range(2)]\n",
    "for i, row in enumerate(Nx):\n",
    "    for element in row:\n",
    "        new_list[int(element)].append(i)"
   ]
  },
  {
   "cell_type": "code",
   "execution_count": 114,
   "metadata": {},
   "outputs": [
    {
     "name": "stdout",
     "output_type": "stream",
     "text": [
      "{'1': '4', '3': '1', '2': '2', '4': '3'}\n",
      "{0: 1, 1: 3, 2: 2, 3: 0, 4: 4}\n"
     ]
    }
   ],
   "source": [
    "NodeList1 = [\n",
    "    ['3','4'],\n",
    "    ['2','3'],\n",
    "    ['1','2','3'],\n",
    "    ['1','2'],\n",
    "    ['1','3','4']\n",
    "]\n",
    "\n",
    "NodeList2 = [\n",
    "    ['2','4'],\n",
    "    ['1','3'],\n",
    "    ['1','2','4'],\n",
    "    ['1','2'],\n",
    "    ['1','3','4']\n",
    "]\n",
    "\n",
    "HG1 = Hypergraph(NodeList1)\n",
    "HG2 = Hypergraph(NodeList2)\n",
    "print(HG1.is_isomorphic(HG2, certificate=True))\n",
    "\n",
    "\n",
    "EdgeList1 = [[] for i in range(HG1.num_blocks())]\n",
    "for i, row in enumerate(NodeList1):\n",
    "    for element in row:\n",
    "        EdgeList1[int(element)].append(i)\n",
    "\n",
    "EdgeList2 = [[] for i in range(HG2.num_blocks())]\n",
    "for i, row in enumerate(NodeList2):\n",
    "    for element in row:\n",
    "        EdgeList2[int(element)].append(i)\n",
    "\n",
    "HG1e = Hypergraph(EdgeList1)\n",
    "HG2e = Hypergraph(EdgeList2)\n",
    "print(HG1e.is_isomorphic(HG2e, certificate=True))"
   ]
  },
  {
   "cell_type": "code",
   "execution_count": 110,
   "metadata": {},
   "outputs": [
    {
     "data": {
      "text/plain": [
       "[[0], [0, 1]]"
      ]
     },
     "execution_count": 110,
     "metadata": {},
     "output_type": "execute_result"
    }
   ],
   "source": [
    "new_list"
   ]
  },
  {
   "cell_type": "code",
   "execution_count": 93,
   "metadata": {},
   "outputs": [
    {
     "data": {
      "text/plain": [
       "[[],\n",
       " ['A', 'D', 'J'],\n",
       " ['A', 'E', 'H', 'K'],\n",
       " ['A', 'H'],\n",
       " ['A', 'H', 'I', 'K'],\n",
       " ['B', 'C'],\n",
       " ['B', 'D', 'G'],\n",
       " ['B', 'F', 'I', 'K'],\n",
       " ['C', 'E', 'K'],\n",
       " ['C', 'G'],\n",
       " ['C', 'K'],\n",
       " ['D', 'J'],\n",
       " ['E', 'F', 'I'],\n",
       " ['E', 'H'],\n",
       " ['G'],\n",
       " ['G', 'J']]"
      ]
     },
     "execution_count": 93,
     "metadata": {},
     "output_type": "execute_result"
    }
   ],
   "source": [
    "H1.blocks()"
   ]
  },
  {
   "cell_type": "code",
   "execution_count": 94,
   "metadata": {},
   "outputs": [
    {
     "data": {
      "text/plain": [
       "[[],\n",
       " ['P', 'R', 'S', 'Z'],\n",
       " ['P', 'R', 'U', 'Y'],\n",
       " ['P', 'S', 'V', 'Z'],\n",
       " ['P', 'V', 'X'],\n",
       " ['P', 'X'],\n",
       " ['Q', 'T'],\n",
       " ['Q', 'W'],\n",
       " ['Q', 'W', 'Z'],\n",
       " ['R', 'U', 'V'],\n",
       " ['S', 'V'],\n",
       " ['S', 'Z'],\n",
       " ['T'],\n",
       " ['T', 'W', 'Y'],\n",
       " ['T', 'X'],\n",
       " ['X', 'Y']]"
      ]
     },
     "execution_count": 94,
     "metadata": {},
     "output_type": "execute_result"
    }
   ],
   "source": [
    "H2.blocks()"
   ]
  },
  {
   "cell_type": "code",
   "execution_count": 107,
   "metadata": {},
   "outputs": [
    {
     "data": {
      "text/plain": [
       "16"
      ]
     },
     "execution_count": 107,
     "metadata": {},
     "output_type": "execute_result"
    }
   ],
   "source": [
    "H1.num_blocks()"
   ]
  },
  {
   "cell_type": "code",
   "execution_count": 98,
   "metadata": {},
   "outputs": [
    {
     "data": {
      "text/plain": [
       "[[], [], [], [], [], [], [], [], [], [], [], [], [], [], []]"
      ]
     },
     "execution_count": 98,
     "metadata": {},
     "output_type": "execute_result"
    }
   ],
   "source": [
    "x = [[] for i in range()]\n",
    "x"
   ]
  },
  {
   "cell_type": "code",
   "execution_count": 82,
   "metadata": {},
   "outputs": [
    {
     "data": {
      "text/plain": [
       "{'5': '2', '6': '1', '7': '3', '8': '4'}"
      ]
     },
     "execution_count": 82,
     "metadata": {},
     "output_type": "execute_result"
    }
   ],
   "source": [
    "H1 = Hypergraph([\n",
    "        ['5','6','7','8'],\n",
    "        ['5','6'],\n",
    "        ['7','8'],\n",
    "        ['5','7']\n",
    "    ])\n",
    "H2 = Hypergraph([\n",
    "        ['1','2','3','4'],\n",
    "        ['3','4'],\n",
    "        ['1','2'],\n",
    "        ['2','3']\n",
    "    ])\n",
    "H1.is_isomorphic(H2, certificate=True)"
   ]
  },
  {
   "cell_type": "code",
   "execution_count": 60,
   "metadata": {},
   "outputs": [],
   "source": [
    "mapping = H1.is_isomorphic(H2, certificate=True)\n",
    "# relabel edges of HG1 with edge labels of HG2\n",
    "H1.relabel(mapping)\n",
    "# iterate through hg1, comparing values from hg1 to hg2\n",
    "\n",
    "# if values are identical, "
   ]
  },
  {
   "cell_type": "code",
   "execution_count": 65,
   "metadata": {},
   "outputs": [
    {
     "data": {
      "text/plain": [
       "([[],\n",
       "  ['P', 'R', 'S', 'Z'],\n",
       "  ['P', 'R', 'U', 'Y'],\n",
       "  ['P', 'S', 'V', 'Z'],\n",
       "  ['P', 'V', 'X'],\n",
       "  ['P', 'X'],\n",
       "  ['Q', 'T'],\n",
       "  ['Q', 'W'],\n",
       "  ['Q', 'W', 'Z'],\n",
       "  ['R', 'U', 'V'],\n",
       "  ['S', 'V'],\n",
       "  ['S', 'Z'],\n",
       "  ['T'],\n",
       "  ['T', 'W', 'Y'],\n",
       "  ['T', 'X'],\n",
       "  ['X', 'Y']],\n",
       " [[],\n",
       "  ['A', 'D', 'J'],\n",
       "  ['A', 'E', 'H', 'K'],\n",
       "  ['A', 'H'],\n",
       "  ['A', 'H', 'I', 'K'],\n",
       "  ['B', 'C'],\n",
       "  ['B', 'D', 'G'],\n",
       "  ['B', 'F', 'I', 'K'],\n",
       "  ['C', 'E', 'K'],\n",
       "  ['C', 'G'],\n",
       "  ['C', 'K'],\n",
       "  ['D', 'J'],\n",
       "  ['E', 'F', 'I'],\n",
       "  ['E', 'H'],\n",
       "  ['G'],\n",
       "  ['G', 'J']])"
      ]
     },
     "execution_count": 65,
     "metadata": {},
     "output_type": "execute_result"
    }
   ],
   "source": []
  },
  {
   "cell_type": "code",
   "execution_count": 45,
   "metadata": {},
   "outputs": [
    {
     "data": {
      "text/plain": [
       "[[['P', 'S', 'V', 'Z'], ['X', 'Y'], ['Q', 'T'], []],\n",
       " [['P', 'R', 'S', 'Z'], ['T', 'X'], ['Q', 'W']],\n",
       " [['P', 'R', 'U', 'Y'], ['S', 'V'], ['Q', 'W', 'Z'], ['T']],\n",
       " [['P', 'X'], ['R', 'U', 'V'], ['T', 'W', 'Y'], ['S', 'Z']],\n",
       " [['P', 'V', 'X']]]"
      ]
     },
     "execution_count": 45,
     "metadata": {},
     "output_type": "execute_result"
    }
   ],
   "source": [
    "H2.edge_coloring()"
   ]
  },
  {
   "cell_type": "code",
   "execution_count": 29,
   "metadata": {},
   "outputs": [],
   "source": [
    "d = H1.is_isomorphic(H2, certificate=True)"
   ]
  },
  {
   "cell_type": "code",
   "execution_count": 31,
   "metadata": {},
   "outputs": [],
   "source": [
    "H1.relabel(d)"
   ]
  },
  {
   "cell_type": "code",
   "execution_count": 33,
   "metadata": {},
   "outputs": [
    {
     "data": {
      "text/plain": [
       "[[],\n",
       " ['Z', 'W', 'Q'],\n",
       " ['Z', 'V', 'S', 'P'],\n",
       " ['Z', 'S'],\n",
       " ['Z', 'S', 'R', 'P'],\n",
       " ['Y', 'X'],\n",
       " ['Y', 'W', 'T'],\n",
       " ['Y', 'U', 'R', 'P'],\n",
       " ['X', 'V', 'P'],\n",
       " ['X', 'T'],\n",
       " ['X', 'P'],\n",
       " ['W', 'Q'],\n",
       " ['V', 'U', 'R'],\n",
       " ['V', 'S'],\n",
       " ['T'],\n",
       " ['T', 'Q']]"
      ]
     },
     "execution_count": 33,
     "metadata": {},
     "output_type": "execute_result"
    }
   ],
   "source": [
    "H1.blocks()"
   ]
  },
  {
   "cell_type": "code",
   "execution_count": 34,
   "metadata": {},
   "outputs": [
    {
     "data": {
      "text/plain": [
       "[[],\n",
       " ['P', 'R', 'S', 'Z'],\n",
       " ['P', 'R', 'U', 'Y'],\n",
       " ['P', 'S', 'V', 'Z'],\n",
       " ['P', 'V', 'X'],\n",
       " ['P', 'X'],\n",
       " ['Q', 'T'],\n",
       " ['Q', 'W'],\n",
       " ['Q', 'W', 'Z'],\n",
       " ['R', 'U', 'V'],\n",
       " ['S', 'V'],\n",
       " ['S', 'Z'],\n",
       " ['T'],\n",
       " ['T', 'W', 'Y'],\n",
       " ['T', 'X'],\n",
       " ['X', 'Y']]"
      ]
     },
     "execution_count": 34,
     "metadata": {},
     "output_type": "execute_result"
    }
   ],
   "source": [
    "H2.blocks()"
   ]
  },
  {
   "cell_type": "code",
   "execution_count": 56,
   "metadata": {},
   "outputs": [
    {
     "data": {
      "text/plain": [
       "{'a': 'f', 'b': 'g', 'c': 'h', 'd': 'i', 'e': 'j'}"
      ]
     },
     "execution_count": 56,
     "metadata": {},
     "output_type": "execute_result"
    }
   ],
   "source": [
    "# With mapping\n",
    "H1.is_isomorphic(H2,certificate=True)"
   ]
  },
  {
   "cell_type": "code",
   "execution_count": 78,
   "metadata": {},
   "outputs": [
    {
     "data": {
      "image/png": "[encoded data removed]",
      "text/plain": [
       "Graph on 11 vertices"
      ]
     },
     "execution_count": 78,
     "metadata": {},
     "output_type": "execute_result"
    }
   ],
   "source": [
    "H1.incidence_graph(labels=True)"
   ]
  },
  {
   "cell_type": "code",
   "execution_count": null,
   "metadata": {},
   "outputs": [],
   "source": []
  }
 ],
 "metadata": {
  "kernelspec": {
   "display_name": "SageMath 8.1",
   "language": "",
   "name": "sagemath"
  },
  "language_info": {
   "codemirror_mode": {
    "name": "ipython",
    "version": 2
   },
   "file_extension": ".py",
   "mimetype": "text/x-python",
   "name": "python",
   "nbconvert_exporter": "python",
   "pygments_lexer": "ipython2",
   "version": "2.7.15rc1"
  }
 },
 "nbformat": 4,
 "nbformat_minor": 2
}
