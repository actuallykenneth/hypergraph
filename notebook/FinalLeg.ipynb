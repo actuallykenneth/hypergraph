{
 "cells": [
  {
   "cell_type": "code",
   "execution_count": 43,
   "metadata": {},
   "outputs": [],
   "source": [
    "from itertools import permutations\n",
    "\n",
    "\n",
    "def generate_edges(inc_size, vert):\n",
    "    '''Generate the permutations of an edge\n",
    "    \n",
    "    inc_size = incidence list size\n",
    "    vert = number of vertices\n",
    "    '''\n",
    "    ones = [1 for i in range(inc_size)]  # generate a list of 1s\n",
    "    zeros = [0 for i in range(vert - inc_size)]  # generate a list of 0s\n",
    "    ones.extend(zeros)  # append the 0s to the 1s\n",
    "    return(set((permutations(ones))))  # return the permutations of the 1s and 0s\n",
    "\n",
    "\n",
    "def blue_edge_broom(num_vertices):\n",
    "    '''Sweep away the blue edges\n",
    "    num_vertices: number of verticies in hypergraph\n",
    "    '''\n",
    "    counter = 0\n",
    "    literal_size = num_vertices // 2\n",
    "    x = []\n",
    "    for i in range(literal_size):\n",
    "        x.extend(generate_edges(i+1,6))\n",
    "    for row in x:\n",
    "        for i in range(len(row)/2):\n",
    "            if row[i]:\n",
    "                if row[i+3]:\n",
    "                    print(\"bad\", row)\n",
    "                else:\n",
    "                    counter += 1\n",
    "                    print('delicious', row)\n",
    "    print(counter)\n",
    "\n",
    "\n",
    "def generate_deck(edgeList):\n",
    "    # generate all one-vertex deleted matrices\n",
    "    matrixList = []\n",
    "    for i in range(len(edgeList.rows())):\n",
    "        matrixList.append(edgeList.delete_rows([i]))\n",
    "#         print(edgeList.delete_rows([i]))\n",
    "#         print(\"--------------------------\")\n",
    "    return matrixList\n",
    "\n",
    "\n",
    "def test_isomorphism_one_vertex_deleted(matrixList):\n",
    "    # test each one-vertex deleted matrix to each other for isomorphism\n",
    "    nonIsomorphic = []\n",
    "    isomorphic = []\n",
    "    for i in range(len(matrixList)):\n",
    "        for j in range(i+1, len(matrixList)):\n",
    "    #         print(i,j)\n",
    "    #         print(BipartiteGraph(matrixList[i]).is_isomorphic(BipartiteGraph(matrixList[j])))\n",
    "            if BipartiteGraph(matrixList[i]).is_isomorphic(BipartiteGraph(matrixList[j])):\n",
    "                isomorphic.append(str(i) + \" and \" + str(j))\n",
    "        #             print(matrixList[i])\n",
    "        #             print('h' + str(i) + ' is different from h' + str(j))\n",
    "    #             print('h' + str(i) + ' is isomorphic to h' + str(j))\n",
    "        #             print(matrixList[j])\n",
    "        #             print('---')\n",
    "            else:\n",
    "                nonIsomorphic.append(str(i) + \" and \" + str(j))\n",
    "    print(\"Isomorphic:\", isomorphic)\n",
    "    print(\"Non-isomorphic:\", nonIsomorphic)\n",
    "\n",
    "\n",
    "def generate_red_edges(litNumber):\n",
    "    '''Generate red edges of size litNumber'''\n",
    "    i1 = identity_matrix(litNumber)\n",
    "    i2 = identity_matrix(litNumber)\n",
    "    for i in i1.rows():\n",
    "        i2 = i2.insert_row(len(i2.rows()), i)\n",
    "    i2 = i2 * 2\n",
    "    return i2\n",
    "\n",
    "\n",
    "def combine_columns(matrix1, matrix2):\n",
    "    '''Add the columns from matrix2 to matrix1'''\n",
    "    matrix1 = matrix1.transpose()\n",
    "    for i in matrix2.columns():\n",
    "        matrix1 = matrix1.insert_row(len(matrix1.rows()), i)\n",
    "    matrix1 = matrix1.transpose()\n",
    "    return matrix1f\n",
    "\n"
   ]
  },
  {
   "cell_type": "code",
   "execution_count": 41,
   "metadata": {},
   "outputs": [
    {
     "data": {
      "text/plain": [
       "119622220865480194561963161495657715064383733760000000000"
      ]
     },
     "execution_count": 41,
     "metadata": {},
     "output_type": "execute_result"
    }
   ],
   "source": []
  }
 ],
 "metadata": {
  "kernelspec": {
   "display_name": "SageMath 8.3",
   "language": "",
   "name": "sagemath"
  },
  "language_info": {
   "codemirror_mode": {
    "name": "ipython",
    "version": 2
   },
   "file_extension": ".py",
   "mimetype": "text/x-python",
   "name": "python",
   "nbconvert_exporter": "python",
   "pygments_lexer": "ipython2",
   "version": "2.7.15+"
  }
 },
 "nbformat": 4,
 "nbformat_minor": 2
}
