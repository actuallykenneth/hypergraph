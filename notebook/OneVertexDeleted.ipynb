{
 "cells": [
  {
   "cell_type": "code",
   "execution_count": 91,
   "metadata": {},
   "outputs": [
    {
     "ename": "IndentationError",
     "evalue": "unexpected indent (<ipython-input-91-5fb04ad22a4d>, line 11)",
     "output_type": "error",
     "traceback": [
      "\u001b[0;36m  File \u001b[0;32m\"<ipython-input-91-5fb04ad22a4d>\"\u001b[0;36m, line \u001b[0;32m11\u001b[0m\n\u001b[0;31m    Integer(1)  (Integer(1),Integer(1),Integer(1),Integer(1),Integer(1),Integer(1),Integer(1),Integer(1),Integer(1),Integer(1),Integer(1),Integer(1),Integer(0),Integer(0),Integer(0),Integer(0),Integer(0),Integer(0),Integer(0),Integer(0),Integer(0),Integer(0),Integer(0),Integer(0),Integer(0),Integer(0),Integer(0),Integer(0),Integer(0),Integer(0),Integer(0),Integer(0),Integer(2),Integer(0),Integer(0),Integer(0))\u001b[0m\n\u001b[0m    ^\u001b[0m\n\u001b[0;31mIndentationError\u001b[0m\u001b[0;31m:\u001b[0m unexpected indent\n"
     ]
    }
   ],
   "source": [
    "# specify a hypergraph via matrix\n",
    "edgeList = Matrix([\n",
    "        (1,1,0,0,1,0,0,1,2,0,0),\n",
    "        (1,1,1,0,0,0,1,0,0,2,0),\n",
    "        (1,0,1,1,1,0,0,0,0,0,2),\n",
    "        (0,0,1,1,0,1,1,0,2,0,0),\n",
    "        (0,0,0,1,1,1,0,1,0,2,0),\n",
    "        (0,1,0,0,0,1,1,1,0,0,2)\n",
    "    ])\n",
    "\n",
    "       1  (1,1,1,1,1,1,1,1,1,1,1,1,0,0,0,0,0,0,0,0,0,0,0,0,0,0,0,0,0,0,0,0,2,0,0,0)\n",
    "       2  (1,1,1,1,0,0,0,0,0,0,0,0,1,1,1,1,1,1,1,1,0,0,0,0,0,0,0,0,0,0,0,0,0,2,0,0)\n",
    "       3  (1,0,0,0,1,1,1,0,0,0,0,0,1,1,1,0,0,0,0,0,1,1,1,1,1,0,0,0,0,0,0,0,0,0,2,0)\n",
    "       4  (0,1,0,0,1,0,0,1,1,0,0,0,1,0,0,1,1,0,0,0,1,1,0,0,0,1,1,1,0,0,0,0,0,0,0,2)\n",
    "       -1 (0,0,0,0,0,0,0,0,0,0,0,0,0,1,0,1,0,1,1,0,1,0,1,1,0,1,1,0,1,1,1,0,2,0,0,0)\n",
    "       -2 (0,0,0,0,0,1,0,1,0,1,1,0,0,0,0,0,0,0,0,0,0,1,1,0,1,1,0,1,1,1,0,1,0,2,0,0)\n",
    "       -3 (0,0,1,0,0,0,0,0,1,1,0,1,0,0,0,0,1,1,0,1,0,0,0,0,0,0,1,1,1,0,1,1,0,0,2,0)\n",
    "       -4 (0,0,0,1,0,0,1,0,0,0,1,1,0,0,1,0,0,0,1,1,0,0,0,1,1,0,0,0,0,1,1,1,0,0,0,2)\n",
    "        \n",
    "        \n",
    "       1  (1,1,1,1,1,1,0,0,0,0,0,0,0,0,2,0,0,0)\n",
    "       2  (1,1,1,0,0,0,1,1,1,1,0,0,0,0,0,2,0,0)\n",
    "       3  (1,1,0,1,0,0,1,1,0,0,1,1,0,0,0,0,2,0)\n",
    "       4  (1,0,1,1,1,0,1,0,1,0,1,0,1,0,0,0,0,2)\n",
    "       -1 (0,0,0,0,0,0,1,1,1,1,1,1,1,1,2,0,0,0)\n",
    "       -2 (0,0,0,1,1,1,0,0,0,0,1,1,1,1,0,2,0,0)\n",
    "       -3 (0,0,1,0,1,1,0,0,1,1,0,0,1,1,0,0,2,0)\n",
    "       -4 (0,1,0,0,0,1,0,1,0,1,0,1,0,1,0,0,0,2)"
   ]
  },
  {
   "cell_type": "code",
   "execution_count": 92,
   "metadata": {},
   "outputs": [],
   "source": [
    "# 8verticies edgesets of 4\n",
    "edgeList= Matrix([\n",
    "    (1,1,1,1,1,1,0,0,0,0,0,0,0,0,2,0,0,0),\n",
    "    (1,1,1,0,0,0,1,1,1,1,0,0,0,0,0,2,0,0),\n",
    "    (1,1,0,1,0,0,1,1,0,0,1,1,0,0,0,0,2,0),\n",
    "    (1,0,1,1,1,0,1,0,1,0,1,0,1,0,0,0,0,2),\n",
    "    (0,0,0,0,0,0,1,1,1,1,1,1,1,1,2,0,0,0),\n",
    "    (0,0,0,1,1,1,0,0,0,0,1,1,1,1,0,2,0,0),\n",
    "    (0,0,1,0,1,1,0,0,1,1,0,0,1,1,0,0,2,0),\n",
    "    (0,1,0,0,0,1,0,1,0,1,0,1,0,1,0,0,0,2)\n",
    "])"
   ]
  },
  {
   "cell_type": "code",
   "execution_count": 93,
   "metadata": {},
   "outputs": [],
   "source": [
    "# 8 verticies edgeset of 3\n",
    "edgeList = Matrix([\n",
    "        (1,1,1,1,1,1,1,1,1,1,1,1,0,0,0,0,0,0,0,0,0,0,0,0,0,0,0,0,0,0,0,0,2,0,0,0),\n",
    "        (1,1,1,1,0,0,0,0,0,0,0,0,1,1,1,1,1,1,1,1,0,0,0,0,0,0,0,0,0,0,0,0,0,2,0,0),\n",
    "        (1,0,0,0,1,1,1,0,0,0,0,0,1,1,1,0,0,0,0,0,1,1,1,1,1,0,0,0,0,0,0,0,0,0,2,0),\n",
    "        (0,1,0,0,1,0,0,1,1,0,0,0,1,0,0,1,1,0,0,0,1,1,0,0,0,1,1,1,0,0,0,0,0,0,0,2),\n",
    "        (0,0,0,0,0,0,0,0,0,0,0,0,0,1,0,1,0,1,1,0,1,0,1,1,0,1,1,0,1,1,1,0,2,0,0,0),\n",
    "        (0,0,0,0,0,1,0,1,0,1,1,0,0,0,0,0,0,0,0,0,0,1,1,0,1,1,0,1,1,1,0,1,0,2,0,0),\n",
    "        (0,0,1,0,0,0,0,0,1,1,0,1,0,0,0,0,1,1,0,1,0,0,0,0,0,0,1,1,1,0,1,1,0,0,2,0),\n",
    "        (0,0,0,1,0,0,1,0,0,0,1,1,0,0,1,0,0,0,1,1,0,0,0,1,1,0,0,0,0,1,1,1,0,0,0,2)\n",
    "    ])"
   ]
  },
  {
   "cell_type": "code",
   "execution_count": 94,
   "metadata": {},
   "outputs": [],
   "source": [
    "# giant matrix from Jacob\n",
    "edgeList = Matrix([\n",
    "(1, 1, 1, 1, 1, 1, 1, 1, 1, 1, 1, 1, 1, 1, 1, 1, 1, 1, 1, 1, 1, 1, \n",
    "   1, 1, 1, 1, 1, 1, 0, 0, 0, 0, 0, 0, 0, 0, 0, 0, 0, 0, 0, 0, 0, 0, \n",
    "   0, 0, 0, 0, 0, 0, 0, 0, 0, 0, 0, 0, 0, 0, 0, 0, 0, 0, 0, 0, 0, 0, \n",
    "   0, 0, 0, 0, 0, 0, 0, 0, 0, 0, 2, 0, 0, 0, 0),\n",
    "  (1, 1, 1, 1, 1, 1, 1, 1, 1, 1, 1, 1, 0, 0, 0, 0, 0, 0, 0, 0, 0, 0, \n",
    "   0, 0, 0, 0, 0, 0, 1, 1, 1, 1, 1, 1, 1, 1, 1, 1, 1, 1, 1, 1, 1, 1, \n",
    "   1, 1, 1, 1, 0, 0, 0, 0, 0, 0, 0, 0, 0, 0, 0, 0, 0, 0, 0, 0, 0, 0, \n",
    "   0, 0, 0, 0, 0, 0, 0, 0, 0, 0, 0, 2, 0, 0, 0),\n",
    "  (1, 1, 1, 1, 0, 0, 0, 0, 0, 0, 0, 0, 1, 1, 1, 1, 1, 1, 1, 1, 0, 0, \n",
    "   0, 0, 0, 0, 0, 0, 1, 1, 1, 1, 1, 1, 1, 1, 0, 0, 0, 0, 0, 0, 0, 0, \n",
    "   0, 0, 0, 0, 1, 1, 1, 1, 1, 1, 1, 1, 1, 1, 1, 1, 0, 0, 0, 0, 0, 0, \n",
    "   0, 0, 0, 0, 0, 0, 0, 0, 0, 0, 0, 0, 2, 0, 0),\n",
    "  (1, 0, 0, 0, 1, 1, 1, 0, 0, 0, 0, 0, 1, 1, 1, 0, 0, 0, 0, 0, 1, 1, \n",
    "   1, 1, 1, 0, 0, 0, 1, 1, 1, 0, 0, 0, 0, 0, 1, 1, 1, 1, 1, 0, 0, 0, \n",
    "   0, 0, 0, 0, 1, 1, 1, 1, 1, 0, 0, 0, 0, 0, 0, 0, 1, 1, 1, 1, 1, 1, \n",
    "   1, 0, 0, 0, 0, 0, 0, 0, 0, 0, 0, 0, 0, 2, 0),\n",
    "  (0, 1, 0, 0, 1, 0, 0, 1, 1, 0, 0, 0, 1, 0, 0, 1, 1, 0, 0, 0, 1, 1, \n",
    "   0, 0, 0, 1, 1, 1, 1, 0, 0, 1, 1, 0, 0, 0, 1, 1, 0, 0, 0, 1, 1, 1, \n",
    "   0, 0, 0, 0, 1, 1, 0, 0, 0, 1, 1, 1, 0, 0, 0, 0, 1, 1, 1, 0, 0, 0, \n",
    "   0, 1, 1, 1, 1, 0, 0, 0, 0, 0, 0, 0, 0, 0, 2),\n",
    "  (0, 0, 0, 0, 0, 0, 0, 0, 0, 0, 0, 0, 0, 0, 0, 0, 0, 0, 0, 0, 0, 0, \n",
    "   0, 0, 0, 0, 0, 0, 0, 1, 0, 1, 0, 1, 1, 0, 1, 0, 1, 1, 0, 1, 1, 0, \n",
    "   1, 1, 1, 0, 1, 0, 1, 1, 0, 1, 1, 0, 1, 1, 1, 0, 1, 1, 0, 1, 1, 1, \n",
    "   0, 1, 1, 1, 0, 1, 1, 1, 1, 0, 2, 0, 0, 0, 0),\n",
    "  (0, 0, 0, 0, 0, 0, 0, 0, 0, 0, 0, 0, 0, 1, 0, 1, 0, 1, 1, 0, 1, 0, \n",
    "   1, 1, 0, 1, 1, 0, 0, 0, 0, 0, 0, 0, 0, 0, 0, 0, 0, 0, 0, 0, 0, 0, \n",
    "   0, 0, 0, 0, 0, 1, 1, 0, 1, 1, 0, 1, 1, 1, 0, 1, 1, 0, 1, 1, 1, 0, \n",
    "   1, 1, 1, 0, 1, 1, 1, 1, 0, 1, 0, 2, 0, 0, 0),\n",
    "  (0, 0, 0, 0, 0, 1, 0, 1, 0, 1, 1, 0, 0, 0, 0, 0, 0, 0, 0, 0, 0, 1, \n",
    "   1, 0, 1, 1, 0, 1, 0, 0, 0, 0, 0, 0, 0, 0, 0, 1, 1, 0, 1, 1, 0, 1, \n",
    "   1, 1, 0, 1, 0, 0, 0, 0, 0, 0, 0, 0, 0, 0, 0, 0, 0, 1, 1, 1, 0, 1, \n",
    "   1, 1, 0, 1, 1, 1, 1, 0, 1, 1, 0, 0, 2, 0, 0),\n",
    "  (0, 0, 1, 0, 0, 0, 0, 0, 1, 1, 0, 1, 0, 0, 0, 0, 1, 1, 0, 1, 0, 0, \n",
    "   0, 0, 0, 0, 1, 1, 0, 0, 0, 0, 1, 1, 0, 1, 0, 0, 0, 0, 0, 0, 1, 1, \n",
    "   1, 0, 1, 1, 0, 0, 0, 0, 0, 0, 1, 1, 1, 0, 1, 1, 0, 0, 0, 0, 0, 0, \n",
    "   0, 0, 1, 1, 1, 1, 0, 1, 1, 1, 0, 0, 0, 2, 0),\n",
    "  (0, 0, 0, 1, 0, 0, 1, 0, 0, 0, 1, 1, 0, 0, 1, 0, 0, 0, 1, 1, 0, 0, \n",
    "   0, 1, 1, 0, 0, 0, 0, 0, 1, 0, 0, 0, 1, 1, 0, 0, 0, 1, 1, 0, 0, 0, \n",
    "   0, 1, 1, 1, 0, 0, 0, 1, 1, 0, 0, 0, 0, 1, 1, 1, 0, 0, 0, 0, 1, 1, \n",
    "   1, 0, 0, 0, 0, 0, 1, 1, 1, 1, 0, 0, 0, 0, 2),\n",
    "])"
   ]
  },
  {
   "cell_type": "code",
   "execution_count": 3,
   "metadata": {},
   "outputs": [],
   "source": [
    "def generate_one_vertex_deleted(edgeList):\n",
    "    # generate all one-vertex deleted matrices\n",
    "    matrixList = []\n",
    "    for i in range(len(edgeList.rows())):\n",
    "        matrixList.append(edgeList.delete_rows([i]))\n",
    "#         print(edgeList.delete_rows([i]))\n",
    "#         print(\"--------------------------\")\n",
    "    return matrixList"
   ]
  },
  {
   "cell_type": "code",
   "execution_count": null,
   "metadata": {},
   "outputs": [],
   "source": []
  },
  {
   "cell_type": "code",
   "execution_count": 4,
   "metadata": {},
   "outputs": [],
   "source": [
    "def generate_one_vertex_deleted(edgeList):\n",
    "    # generate all one-vertex deleted matrices\n",
    "    matrixList = []\n",
    "    for i in range(len(edgeList.rows())):\n",
    "        matrixList.append(edgeList.delete_rows([i]))\n",
    "#         print(edgeList.delete_rows([i]))\n",
    "#         print(\"--------------------------\")\n",
    "    return matrixList\n",
    "\n",
    "\n",
    "def test_isomorphism_one_vertex_deleted(matrixList):\n",
    "    \n",
    "    # test each one-vertex deleted matrix to each other for isomorphism\n",
    "    nonIsomorphic = []\n",
    "    isomorphic = []\n",
    "    for i in range(len(matrixList)):\n",
    "        for j in range(i+1, len(matrixList)):\n",
    "    #         print(i,j)\n",
    "    #         print(BipartiteGraph(matrixList[i]).is_isomorphic(BipartiteGraph(matrixList[j])))\n",
    "            if BipartiteGraph(matrixList[i]).is_isomorphic(BipartiteGraph(matrixList[j])):\n",
    "                isomorphic.append(str(i) + \" and \" + str(j))\n",
    "        #             print(matrixList[i])\n",
    "        #             print('h' + str(i) + ' is different from h' + str(j))\n",
    "    #             print('h' + str(i) + ' is isomorphic to h' + str(j))\n",
    "        #             print(matrixList[j])\n",
    "        #             print('---')\n",
    "            else:\n",
    "                nonIsomorphic.append(str(i) + \" and \" + str(j))\n",
    "    print(\"Isomorphic:\", isomorphic)\n",
    "    print(\"Non-isomorphic:\", nonIsomorphic)\n"
   ]
  },
  {
   "cell_type": "code",
   "execution_count": 98,
   "metadata": {},
   "outputs": [],
   "source": [
    "edgeNumber = 3\n",
    "literalNumber = 3\n",
    "vertexNumer = literalNumber * 2\n",
    "\n",
    "def generate_red_edges(litNumber):\n",
    "    '''Generate red edges of size litNumber'''\n",
    "    i1 = identity_matrix(litNumber)\n",
    "    i2 = identity_matrix(litNumber)\n",
    "    for i in i1.rows():\n",
    "        i2 = i2.insert_row(len(i2.rows()), i)\n",
    "    i2 = i2 * 2\n",
    "    return i2\n",
    "\n",
    "def combine_columns(matrix1, matrix2):\n",
    "    '''Add the columns from matrix2 to matrix1'''\n",
    "    matrix1 = matrix1.transpose()\n",
    "    for i in matrix2.columns():\n",
    "        matrix1 = matrix1.insert_row(len(matrix1.rows()), i)\n",
    "    matrix1 = matrix1.transpose()\n",
    "    return matrix1\n",
    "\n"
   ]
  },
  {
   "cell_type": "code",
   "execution_count": 118,
   "metadata": {},
   "outputs": [],
   "source": [
    "x = Matrix([\n",
    "        (1,1,0,0,1,0,0,1,2,0,0),\n",
    "        (1,1,1,0,0,0,1,0,0,2,0),\n",
    "        (1,0,1,1,1,0,0,0,0,0,2),\n",
    "        (0,0,1,1,0,1,1,0,2,0,0),\n",
    "        (0,0,0,1,1,1,0,1,0,2,0),\n",
    "        (0,1,0,0,0,1,1,1,0,0,2)\n",
    "    ])"
   ]
  },
  {
   "cell_type": "code",
   "execution_count": 124,
   "metadata": {},
   "outputs": [
    {
     "data": {
      "text/plain": [
       "Combinations of [1, 2]"
      ]
     },
     "execution_count": 124,
     "metadata": {},
     "output_type": "execute_result"
    }
   ],
   "source": [
    "sage.combinat.combination.Combinations([1,2])"
   ]
  },
  {
   "cell_type": "code",
   "execution_count": 154,
   "metadata": {},
   "outputs": [],
   "source": [
    "x1 = Matrix([\n",
    "        (1,0,0,0,0,0),\n",
    "        (0,0,0,0,0,0)\n",
    "    ])"
   ]
  },
  {
   "cell_type": "code",
   "execution_count": 155,
   "metadata": {},
   "outputs": [],
   "source": [
    "x1 = x1.transpose()"
   ]
  },
  {
   "cell_type": "code",
   "execution_count": 156,
   "metadata": {},
   "outputs": [
    {
     "data": {
      "text/plain": [
       "((1, 0), (0, 0), (0, 0), (0, 0), (0, 0), (0, 0))"
      ]
     },
     "execution_count": 156,
     "metadata": {},
     "output_type": "execute_result"
    }
   ],
   "source": [
    "cartesian_product(x1,)"
   ]
  },
  {
   "cell_type": "code",
   "execution_count": 146,
   "metadata": {},
   "outputs": [],
   "source": []
  },
  {
   "cell_type": "code",
   "execution_count": 190,
   "metadata": {},
   "outputs": [
    {
     "name": "stdout",
     "output_type": "stream",
     "text": [
      "[(0, 0), (0, 1), (1, 0), (1, 1)]\n"
     ]
    }
   ],
   "source": [
    "ro = [(i,j) for i in range(2) for j in range(2)]\n",
    "print(ro)"
   ]
  },
  {
   "cell_type": "code",
   "execution_count": 216,
   "metadata": {},
   "outputs": [
    {
     "name": "stdout",
     "output_type": "stream",
     "text": [
      "\n",
      "(0, 0)\n",
      "(0, 1)\n",
      "(1, 0)\n",
      "(1, 1)\n",
      "\n",
      "(0, 0, 0)\n",
      "(0, 0, 1)\n",
      "(0, 1, 0)\n",
      "(0, 1, 1)\n",
      "(1, 0, 0)\n",
      "(1, 0, 1)\n",
      "(1, 1, 0)\n",
      "(1, 1, 1)\n",
      "\n",
      "(0, 0, 0, 0)\n",
      "(0, 0, 0, 1)\n",
      "(0, 0, 1, 0)\n",
      "(0, 0, 1, 1)\n",
      "(0, 1, 0, 0)\n",
      "(0, 1, 0, 1)\n",
      "(0, 1, 1, 0)\n",
      "(0, 1, 1, 1)\n",
      "(1, 0, 0, 0)\n",
      "(1, 0, 0, 1)\n",
      "(1, 0, 1, 0)\n",
      "(1, 0, 1, 1)\n",
      "(1, 1, 0, 0)\n",
      "(1, 1, 0, 1)\n",
      "(1, 1, 1, 0)\n",
      "(1, 1, 1, 1)\n",
      "\n",
      "(0, 0, 0, 0, 0)\n",
      "(0, 0, 0, 0, 1)\n",
      "(0, 0, 0, 1, 0)\n",
      "(0, 0, 0, 1, 1)\n",
      "(0, 0, 1, 0, 0)\n",
      "(0, 0, 1, 0, 1)\n",
      "(0, 0, 1, 1, 0)\n",
      "(0, 0, 1, 1, 1)\n",
      "(0, 1, 0, 0, 0)\n",
      "(0, 1, 0, 0, 1)\n",
      "(0, 1, 0, 1, 0)\n",
      "(0, 1, 0, 1, 1)\n",
      "(0, 1, 1, 0, 0)\n",
      "(0, 1, 1, 0, 1)\n",
      "(0, 1, 1, 1, 0)\n",
      "(0, 1, 1, 1, 1)\n",
      "(1, 0, 0, 0, 0)\n",
      "(1, 0, 0, 0, 1)\n",
      "(1, 0, 0, 1, 0)\n",
      "(1, 0, 0, 1, 1)\n",
      "(1, 0, 1, 0, 0)\n",
      "(1, 0, 1, 0, 1)\n",
      "(1, 0, 1, 1, 0)\n",
      "(1, 0, 1, 1, 1)\n",
      "(1, 1, 0, 0, 0)\n",
      "(1, 1, 0, 0, 1)\n",
      "(1, 1, 0, 1, 0)\n",
      "(1, 1, 0, 1, 1)\n",
      "(1, 1, 1, 0, 0)\n",
      "(1, 1, 1, 0, 1)\n",
      "(1, 1, 1, 1, 0)\n",
      "(1, 1, 1, 1, 1)\n"
     ]
    }
   ],
   "source": [
    "from itertools import product\n",
    "for k in range(2, 6):\n",
    "    print\n",
    "    for matrices in (product(range(2), repeat=k)):\n",
    "        print(matrices)"
   ]
  },
  {
   "cell_type": "code",
   "execution_count": 189,
   "metadata": {},
   "outputs": [],
   "source": [
    "from itertools import permutations"
   ]
  },
  {
   "cell_type": "code",
   "execution_count": 203,
   "metadata": {},
   "outputs": [
    {
     "name": "stdout",
     "output_type": "stream",
     "text": [
      "[[ 0.  1.  1.  1.]\n",
      " [ 1.  0.  0.  0.]\n",
      " [ 1.  0.  0.  0.]\n",
      " [ 1.  0.  0.  0.]]\n",
      "[[ 0.  1.  1.  0.]\n",
      " [ 1.  0.  1.  0.]\n",
      " [ 1.  1.  0.  0.]\n",
      " [ 0.  0.  0.  0.]]\n",
      "[[ 0.  1.  1.  0.]\n",
      " [ 1.  0.  0.  1.]\n",
      " [ 1.  0.  0.  0.]\n",
      " [ 0.  1.  0.  0.]]\n",
      "[[ 0.  1.  1.  0.]\n",
      " [ 1.  0.  0.  0.]\n",
      " [ 1.  0.  0.  1.]\n",
      " [ 0.  0.  1.  0.]]\n",
      "[[ 0.  1.  0.  1.]\n",
      " [ 1.  0.  1.  0.]\n",
      " [ 0.  1.  0.  0.]\n",
      " [ 1.  0.  0.  0.]]\n",
      "[[ 0.  1.  0.  1.]\n",
      " [ 1.  0.  0.  1.]\n",
      " [ 0.  0.  0.  0.]\n",
      " [ 1.  1.  0.  0.]]\n",
      "[[ 0.  1.  0.  1.]\n",
      " [ 1.  0.  0.  0.]\n",
      " [ 0.  0.  0.  1.]\n",
      " [ 1.  0.  1.  0.]]\n",
      "[[ 0.  1.  0.  0.]\n",
      " [ 1.  0.  1.  1.]\n",
      " [ 0.  1.  0.  0.]\n",
      " [ 0.  1.  0.  0.]]\n",
      "[[ 0.  1.  0.  0.]\n",
      " [ 1.  0.  1.  0.]\n",
      " [ 0.  1.  0.  1.]\n",
      " [ 0.  0.  1.  0.]]\n",
      "[[ 0.  1.  0.  0.]\n",
      " [ 1.  0.  0.  1.]\n",
      " [ 0.  0.  0.  1.]\n",
      " [ 0.  1.  1.  0.]]\n",
      "[[ 0.  0.  1.  1.]\n",
      " [ 0.  0.  1.  0.]\n",
      " [ 1.  1.  0.  0.]\n",
      " [ 1.  0.  0.  0.]]\n",
      "[[ 0.  0.  1.  1.]\n",
      " [ 0.  0.  0.  1.]\n",
      " [ 1.  0.  0.  0.]\n",
      " [ 1.  1.  0.  0.]]\n",
      "[[ 0.  0.  1.  1.]\n",
      " [ 0.  0.  0.  0.]\n",
      " [ 1.  0.  0.  1.]\n",
      " [ 1.  0.  1.  0.]]\n",
      "[[ 0.  0.  1.  0.]\n",
      " [ 0.  0.  1.  1.]\n",
      " [ 1.  1.  0.  0.]\n",
      " [ 0.  1.  0.  0.]]\n",
      "[[ 0.  0.  1.  0.]\n",
      " [ 0.  0.  1.  0.]\n",
      " [ 1.  1.  0.  1.]\n",
      " [ 0.  0.  1.  0.]]\n",
      "[[ 0.  0.  1.  0.]\n",
      " [ 0.  0.  0.  1.]\n",
      " [ 1.  0.  0.  1.]\n",
      " [ 0.  1.  1.  0.]]\n",
      "[[ 0.  0.  0.  1.]\n",
      " [ 0.  0.  1.  1.]\n",
      " [ 0.  1.  0.  0.]\n",
      " [ 1.  1.  0.  0.]]\n",
      "[[ 0.  0.  0.  1.]\n",
      " [ 0.  0.  1.  0.]\n",
      " [ 0.  1.  0.  1.]\n",
      " [ 1.  0.  1.  0.]]\n",
      "[[ 0.  0.  0.  1.]\n",
      " [ 0.  0.  0.  1.]\n",
      " [ 0.  0.  0.  1.]\n",
      " [ 1.  1.  1.  0.]]\n",
      "[[ 0.  0.  0.  0.]\n",
      " [ 0.  0.  1.  1.]\n",
      " [ 0.  1.  0.  1.]\n",
      " [ 0.  1.  1.  0.]]\n"
     ]
    }
   ],
   "source": [
    "import numpy as np\n",
    "from itertools import combinations\n",
    "\n",
    "triangle = [(i,j) for i in range(4) for j in range (i+1,4)]\n",
    "\n",
    "def matrices():\n",
    "    for t in combinations(triangle,3):\n",
    "        m = np.zeros((4,4))\n",
    "        for c in t:\n",
    "            m[c]=1\n",
    "        yield m+m.transpose()\n",
    "\n",
    "M = [m for m in matrices()]\n",
    "# print(M[-1]) # print the last matrix in the list\n",
    "# print(M[0])  # print the first matrix in the list\n",
    "# print(M[-1][-1,:]) #print the last row of the last matrix     \n",
    "for m in matrices():\n",
    "    print(m)"
   ]
  },
  {
   "cell_type": "code",
   "execution_count": 159,
   "metadata": {},
   "outputs": [
    {
     "data": {
      "text/plain": [
       "[(0, 1), (0, 2), (0, 3), (1, 2), (1, 3), (2, 3)]"
      ]
     },
     "execution_count": 159,
     "metadata": {},
     "output_type": "execute_result"
    }
   ],
   "source": [
    "triangle"
   ]
  },
  {
   "cell_type": "code",
   "execution_count": 47,
   "metadata": {},
   "outputs": [],
   "source": [
    "m = Matrix.column([(1),(0),(0),(0),(0),(0),])"
   ]
  },
  {
   "cell_type": "code",
   "execution_count": 43,
   "metadata": {},
   "outputs": [
    {
     "ename": "AttributeError",
     "evalue": "'PermutationGroup_generic_with_category' object has no attribute 'cycle_tuples'",
     "output_type": "error",
     "traceback": [
      "\u001b[0;31m---------------------------------------------------------------------------\u001b[0m",
      "\u001b[0;31mAttributeError\u001b[0m                            Traceback (most recent call last)",
      "\u001b[0;32m<ipython-input-43-fffeff9201d2>\u001b[0m in \u001b[0;36m<module>\u001b[0;34m()\u001b[0m\n\u001b[0;32m----> 1\u001b[0;31m \u001b[0mm\u001b[0m\u001b[0;34m.\u001b[0m\u001b[0mpermute_rows\u001b[0m\u001b[0;34m(\u001b[0m\u001b[0mg\u001b[0m\u001b[0;34m)\u001b[0m\u001b[0;34m\u001b[0m\u001b[0m\n\u001b[0m",
      "\u001b[0;32msage/matrix/matrix0.pyx\u001b[0m in \u001b[0;36msage.matrix.matrix0.Matrix.permute_rows (build/cythonized/sage/matrix/matrix0.c:18819)\u001b[0;34m()\u001b[0m\n",
      "\u001b[0;32msage/structure/category_object.pyx\u001b[0m in \u001b[0;36msage.structure.category_object.CategoryObject.__getattr__ (build/cythonized/sage/structure/category_object.c:7977)\u001b[0;34m()\u001b[0m\n",
      "\u001b[0;32msage/structure/category_object.pyx\u001b[0m in \u001b[0;36msage.structure.category_object.CategoryObject.getattr_from_category (build/cythonized/sage/structure/category_object.c:8141)\u001b[0;34m()\u001b[0m\n",
      "\u001b[0;32msage/cpython/getattr.pyx\u001b[0m in \u001b[0;36msage.cpython.getattr.getattr_from_other_class (build/cythonized/sage/cpython/getattr.c:1770)\u001b[0;34m()\u001b[0m\n",
      "\u001b[0;31mAttributeError\u001b[0m: 'PermutationGroup_generic_with_category' object has no attribute 'cycle_tuples'"
     ]
    }
   ],
   "source": [
    "m.permute_rows(g)"
   ]
  },
  {
   "cell_type": "code",
   "execution_count": 48,
   "metadata": {},
   "outputs": [
    {
     "data": {
      "text/plain": [
       "((1), (0), (0), (0), (0), (0))"
      ]
     },
     "execution_count": 48,
     "metadata": {},
     "output_type": "execute_result"
    }
   ],
   "source": [
    "cartesian_product(m)"
   ]
  },
  {
   "cell_type": "code",
   "execution_count": 74,
   "metadata": {},
   "outputs": [
    {
     "ename": "TypeError",
     "evalue": "Required argument 'iterable' (pos 1) not found",
     "output_type": "error",
     "traceback": [
      "\u001b[0;31m---------------------------------------------------------------------------\u001b[0m",
      "\u001b[0;31mTypeError\u001b[0m                                 Traceback (most recent call last)",
      "\u001b[0;32m<ipython-input-74-9dbea2b101fe>\u001b[0m in \u001b[0;36m<module>\u001b[0;34m()\u001b[0m\n\u001b[1;32m      1\u001b[0m \u001b[0;32mfrom\u001b[0m \u001b[0mitertools\u001b[0m \u001b[0;32mimport\u001b[0m \u001b[0mpermutations\u001b[0m\u001b[0;34m\u001b[0m\u001b[0m\n\u001b[0;32m----> 2\u001b[0;31m \u001b[0mpermutations\u001b[0m\u001b[0;34m(\u001b[0m\u001b[0;34m)\u001b[0m\u001b[0;34m\u001b[0m\u001b[0m\n\u001b[0m",
      "\u001b[0;31mTypeError\u001b[0m: Required argument 'iterable' (pos 1) not found"
     ]
    }
   ],
   "source": [
    "from itertools import permutations \n",
    "permutations()"
   ]
  },
  {
   "cell_type": "code",
   "execution_count": 1,
   "metadata": {},
   "outputs": [],
   "source": [
    "from itertools import permutations\n",
    "def generate_edges(n, sz):\n",
    "    ones = [1 for i in range(n)]  # generate a list of 1s\n",
    "    zeros = [0 for i in range(sz - n)]  # generate a list of 0s\n",
    "    ones.extend(zeros)  # append the 0s to the 1s\n",
    "    return(set((permutations(ones))))  # return the permutations of the 1s and 0s"
   ]
  },
  {
   "cell_type": "code",
   "execution_count": 7,
   "metadata": {},
   "outputs": [
    {
     "name": "stdout",
     "output_type": "stream",
     "text": [
      "set([(1, 0, 0, 0, 0, 0), (0, 0, 1, 0, 0, 0), (0, 1, 0, 0, 0, 0), (0, 0, 0, 1, 0, 0), (0, 0, 0, 0, 0, 1), (0, 0, 0, 0, 1, 0)])\n",
      "set([(1, 0, 1, 0, 0, 0), (1, 0, 0, 0, 1, 0), (0, 0, 1, 0, 1, 0), (0, 1, 1, 0, 0, 0), (0, 1, 0, 0, 1, 0), (0, 0, 1, 1, 0, 0), (0, 0, 0, 1, 1, 0), (1, 0, 0, 0, 0, 1), (0, 0, 0, 0, 1, 1), (0, 0, 1, 0, 0, 1), (1, 0, 0, 1, 0, 0), (0, 1, 0, 0, 0, 1), (0, 1, 0, 1, 0, 0), (1, 1, 0, 0, 0, 0), (0, 0, 0, 1, 0, 1)])\n",
      "set([(0, 1, 1, 0, 0, 1), (0, 1, 0, 1, 1, 0), (1, 1, 0, 0, 1, 0), (1, 0, 1, 1, 0, 0), (1, 1, 1, 0, 0, 0), (1, 0, 1, 0, 1, 0), (1, 0, 0, 0, 1, 1), (0, 0, 0, 1, 1, 1), (0, 1, 0, 0, 1, 1), (1, 0, 0, 1, 0, 1), (0, 0, 1, 1, 0, 1), (1, 1, 0, 1, 0, 0), (0, 0, 1, 1, 1, 0), (0, 1, 0, 1, 0, 1), (0, 1, 1, 0, 1, 0), (1, 1, 0, 0, 0, 1), (0, 0, 1, 0, 1, 1), (1, 0, 1, 0, 0, 1), (1, 0, 0, 1, 1, 0), (0, 1, 1, 1, 0, 0)])\n"
     ]
    }
   ],
   "source": [
    "for i in range(1,4):\n",
    "    print(generate_edges(i, 6))"
   ]
  },
  {
   "cell_type": "code",
   "execution_count": 8,
   "metadata": {},
   "outputs": [],
   "source": [
    "x = []\n",
    "for i in range(3):\n",
    "    x.extend(generate_edges(i+1,6))"
   ]
  },
  {
   "cell_type": "code",
   "execution_count": 9,
   "metadata": {},
   "outputs": [
    {
     "data": {
      "text/plain": [
       "[(1, 0, 0, 0, 0, 0),\n",
       " (0, 0, 1, 0, 0, 0),\n",
       " (0, 1, 0, 0, 0, 0),\n",
       " (0, 0, 0, 1, 0, 0),\n",
       " (0, 0, 0, 0, 0, 1),\n",
       " (0, 0, 0, 0, 1, 0),\n",
       " (1, 0, 1, 0, 0, 0),\n",
       " (1, 0, 0, 0, 1, 0),\n",
       " (0, 0, 1, 0, 1, 0),\n",
       " (0, 1, 1, 0, 0, 0),\n",
       " (0, 1, 0, 0, 1, 0),\n",
       " (0, 0, 1, 1, 0, 0),\n",
       " (0, 0, 0, 1, 1, 0),\n",
       " (1, 0, 0, 0, 0, 1),\n",
       " (0, 0, 0, 0, 1, 1),\n",
       " (0, 0, 1, 0, 0, 1),\n",
       " (1, 0, 0, 1, 0, 0),\n",
       " (0, 1, 0, 0, 0, 1),\n",
       " (0, 1, 0, 1, 0, 0),\n",
       " (1, 1, 0, 0, 0, 0),\n",
       " (0, 0, 0, 1, 0, 1),\n",
       " (0, 1, 1, 0, 0, 1),\n",
       " (0, 1, 0, 1, 1, 0),\n",
       " (1, 1, 0, 0, 1, 0),\n",
       " (1, 0, 1, 1, 0, 0),\n",
       " (1, 1, 1, 0, 0, 0),\n",
       " (1, 0, 1, 0, 1, 0),\n",
       " (1, 0, 0, 0, 1, 1),\n",
       " (0, 0, 0, 1, 1, 1),\n",
       " (0, 1, 0, 0, 1, 1),\n",
       " (1, 0, 0, 1, 0, 1),\n",
       " (0, 0, 1, 1, 0, 1),\n",
       " (1, 1, 0, 1, 0, 0),\n",
       " (0, 0, 1, 1, 1, 0),\n",
       " (0, 1, 0, 1, 0, 1),\n",
       " (0, 1, 1, 0, 1, 0),\n",
       " (1, 1, 0, 0, 0, 1),\n",
       " (0, 0, 1, 0, 1, 1),\n",
       " (1, 0, 1, 0, 0, 1),\n",
       " (1, 0, 0, 1, 1, 0),\n",
       " (0, 1, 1, 1, 0, 0)]"
      ]
     },
     "execution_count": 9,
     "metadata": {},
     "output_type": "execute_result"
    }
   ],
   "source": [
    "x"
   ]
  },
  {
   "cell_type": "code",
   "execution_count": 86,
   "metadata": {},
   "outputs": [
    {
     "name": "stdout",
     "output_type": "stream",
     "text": [
      "(1, 0, 0, 0, 0, 0)\n",
      "(0, 0, 1, 0, 0, 0)\n",
      "(0, 1, 0, 0, 0, 0)\n",
      "(0, 0, 0, 1, 0, 0)\n",
      "(0, 0, 0, 0, 0, 1)\n",
      "(0, 0, 0, 0, 1, 0)\n",
      "(1, 0, 1, 0, 0, 0)\n",
      "(1, 0, 0, 0, 1, 0)\n",
      "(0, 0, 1, 0, 1, 0)\n",
      "(0, 1, 1, 0, 0, 0)\n",
      "(0, 1, 0, 0, 1, 0)\n",
      "(0, 0, 1, 1, 0, 0)\n",
      "(0, 0, 0, 1, 1, 0)\n",
      "(1, 0, 0, 0, 0, 1)\n",
      "(0, 0, 0, 0, 1, 1)\n",
      "(0, 0, 1, 0, 0, 1)\n",
      "(1, 0, 0, 1, 0, 0)\n",
      "(0, 1, 0, 0, 0, 1)\n",
      "(0, 1, 0, 1, 0, 0)\n",
      "(1, 1, 0, 0, 0, 0)\n",
      "(0, 0, 0, 1, 0, 1)\n",
      "(0, 1, 1, 0, 0, 1)\n",
      "(0, 1, 0, 1, 1, 0)\n",
      "(1, 1, 0, 0, 1, 0)\n",
      "(1, 0, 1, 1, 0, 0)\n",
      "(1, 1, 1, 0, 0, 0)\n",
      "(1, 0, 1, 0, 1, 0)\n",
      "(1, 0, 0, 0, 1, 1)\n",
      "(0, 0, 0, 1, 1, 1)\n",
      "(0, 1, 0, 0, 1, 1)\n",
      "(1, 0, 0, 1, 0, 1)\n",
      "(0, 0, 1, 1, 0, 1)\n",
      "(1, 1, 0, 1, 0, 0)\n",
      "(0, 0, 1, 1, 1, 0)\n",
      "(0, 1, 0, 1, 0, 1)\n",
      "(0, 1, 1, 0, 1, 0)\n",
      "(1, 1, 0, 0, 0, 1)\n",
      "(0, 0, 1, 0, 1, 1)\n",
      "(1, 0, 1, 0, 0, 1)\n",
      "(1, 0, 0, 1, 1, 0)\n",
      "(0, 1, 1, 1, 0, 0)\n"
     ]
    }
   ],
   "source": [
    "for i in x:\n",
    "    for e in i:\n",
    "        "
   ]
  },
  {
   "cell_type": "code",
   "execution_count": 17,
   "metadata": {},
   "outputs": [
    {
     "name": "stdout",
     "output_type": "stream",
     "text": [
      "[1, 1, 1]\n"
     ]
    }
   ],
   "source": [
    "ones = [1 for i in range(3)]\n",
    "print(ones)"
   ]
  },
  {
   "cell_type": "code",
   "execution_count": 20,
   "metadata": {},
   "outputs": [
    {
     "ename": "NameError",
     "evalue": "name 'sz' is not defined",
     "output_type": "error",
     "traceback": [
      "\u001b[0;31m---------------------------------------------------------------------------\u001b[0m",
      "\u001b[0;31mNameError\u001b[0m                                 Traceback (most recent call last)",
      "\u001b[0;32m<ipython-input-20-48af92e26d9d>\u001b[0m in \u001b[0;36m<module>\u001b[0;34m()\u001b[0m\n\u001b[0;32m----> 1\u001b[0;31m \u001b[0mzeros\u001b[0m \u001b[0;34m=\u001b[0m \u001b[0;34m[\u001b[0m\u001b[0mInteger\u001b[0m\u001b[0;34m(\u001b[0m\u001b[0;36m0\u001b[0m\u001b[0;34m)\u001b[0m \u001b[0;32mfor\u001b[0m \u001b[0mi\u001b[0m \u001b[0;32min\u001b[0m \u001b[0mrange\u001b[0m\u001b[0;34m(\u001b[0m\u001b[0msz\u001b[0m \u001b[0;34m-\u001b[0m \u001b[0mn\u001b[0m\u001b[0;34m)\u001b[0m\u001b[0;34m]\u001b[0m\u001b[0;34m\u001b[0m\u001b[0m\n\u001b[0m\u001b[1;32m      2\u001b[0m \u001b[0;32mprint\u001b[0m\u001b[0;34m(\u001b[0m\u001b[0mzeros\u001b[0m\u001b[0;34m)\u001b[0m\u001b[0;34m\u001b[0m\u001b[0m\n",
      "\u001b[0;31mNameError\u001b[0m: name 'sz' is not defined"
     ]
    }
   ],
   "source": [
    "zeros = [0 for i in range( - n)]\n",
    "print(zeros)"
   ]
  },
  {
   "cell_type": "code",
   "execution_count": null,
   "metadata": {},
   "outputs": [],
   "source": []
  }
 ],
 "metadata": {
  "kernelspec": {
   "display_name": "SageMath 8.3",
   "language": "",
   "name": "sagemath"
  },
  "language_info": {
   "codemirror_mode": {
    "name": "ipython",
    "version": 2
   },
   "file_extension": ".py",
   "mimetype": "text/x-python",
   "name": "python",
   "nbconvert_exporter": "python",
   "pygments_lexer": "ipython2",
   "version": "2.7.15+"
  }
 },
 "nbformat": 4,
 "nbformat_minor": 2
}
