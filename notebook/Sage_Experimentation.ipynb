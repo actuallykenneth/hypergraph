{
 "cells": [
  {
   "cell_type": "code",
   "execution_count": 100,
   "metadata": {},
   "outputs": [
    {
     "ename": "TypeError",
     "evalue": "'NoneType' object is not iterable",
     "output_type": "error",
     "traceback": [
      "\u001b[0;31m---------------------------------------------------------------------------\u001b[0m",
      "\u001b[0;31mTypeError\u001b[0m                                 Traceback (most recent call last)",
      "\u001b[0;32m<ipython-input-100-17d0da6bf394>\u001b[0m in \u001b[0;36m<module>\u001b[0;34m()\u001b[0m\n\u001b[1;32m      5\u001b[0m         \u001b[0;34m[\u001b[0m\u001b[0;34m'5'\u001b[0m\u001b[0;34m,\u001b[0m\u001b[0;34m'6'\u001b[0m\u001b[0;34m]\u001b[0m\u001b[0;34m,\u001b[0m\u001b[0;34m\u001b[0m\u001b[0m\n\u001b[1;32m      6\u001b[0m         \u001b[0;34m[\u001b[0m\u001b[0;34m'6'\u001b[0m\u001b[0;34m]\u001b[0m\u001b[0;34m,\u001b[0m\u001b[0;34m\u001b[0m\u001b[0m\n\u001b[0;32m----> 7\u001b[0;31m         \u001b[0;34m[\u001b[0m\u001b[0;34m]\u001b[0m\u001b[0;34m\u001b[0m\u001b[0m\n\u001b[0m\u001b[1;32m      8\u001b[0m         ])\n",
      "\u001b[0;32m/usr/lib/python2.7/dist-packages/sage/combinat/designs/incidence_structures.pyc\u001b[0m in \u001b[0;36m__init__\u001b[0;34m(self, points, blocks, incidence_matrix, name, check, copy)\u001b[0m\n\u001b[1;32m    208\u001b[0m                 \u001b[0mself\u001b[0m\u001b[0;34m.\u001b[0m\u001b[0m_point_to_index\u001b[0m \u001b[0;34m=\u001b[0m \u001b[0mNone\u001b[0m\u001b[0;34m\u001b[0m\u001b[0m\n\u001b[1;32m    209\u001b[0m             \u001b[0;32melse\u001b[0m\u001b[0;34m:\u001b[0m\u001b[0;34m\u001b[0m\u001b[0m\n\u001b[0;32m--> 210\u001b[0;31m                 \u001b[0mself\u001b[0m\u001b[0;34m.\u001b[0m\u001b[0m_points\u001b[0m \u001b[0;34m=\u001b[0m \u001b[0msorted\u001b[0m\u001b[0;34m(\u001b[0m\u001b[0mpoints\u001b[0m\u001b[0;34m)\u001b[0m\u001b[0;34m\u001b[0m\u001b[0m\n\u001b[0m\u001b[1;32m    211\u001b[0m                 \u001b[0;32mif\u001b[0m \u001b[0mself\u001b[0m\u001b[0;34m.\u001b[0m\u001b[0m_points\u001b[0m \u001b[0;34m==\u001b[0m \u001b[0mlist\u001b[0m\u001b[0;34m(\u001b[0m\u001b[0mrange\u001b[0m\u001b[0;34m(\u001b[0m\u001b[0mlen\u001b[0m\u001b[0;34m(\u001b[0m\u001b[0mpoints\u001b[0m\u001b[0;34m)\u001b[0m\u001b[0;34m)\u001b[0m\u001b[0;34m)\u001b[0m \u001b[0;32mand\u001b[0m \u001b[0mall\u001b[0m\u001b[0;34m(\u001b[0m\u001b[0misinstance\u001b[0m\u001b[0;34m(\u001b[0m\u001b[0mx\u001b[0m\u001b[0;34m,\u001b[0m\u001b[0;34m(\u001b[0m\u001b[0mint\u001b[0m\u001b[0;34m,\u001b[0m\u001b[0mInteger\u001b[0m\u001b[0;34m)\u001b[0m\u001b[0;34m)\u001b[0m \u001b[0;32mfor\u001b[0m \u001b[0mx\u001b[0m \u001b[0;32min\u001b[0m \u001b[0mself\u001b[0m\u001b[0;34m.\u001b[0m\u001b[0m_points\u001b[0m\u001b[0;34m)\u001b[0m\u001b[0;34m:\u001b[0m\u001b[0;34m\u001b[0m\u001b[0m\n\u001b[1;32m    212\u001b[0m                     \u001b[0mself\u001b[0m\u001b[0;34m.\u001b[0m\u001b[0m_point_to_index\u001b[0m \u001b[0;34m=\u001b[0m \u001b[0mNone\u001b[0m\u001b[0;34m\u001b[0m\u001b[0m\n",
      "\u001b[0;31mTypeError\u001b[0m: 'NoneType' object is not iterable"
     ]
    }
   ],
   "source": [
    "H1 = Hypergraph(blocks=[\n",
    "        ['4'],\n",
    "        ['4'],\n",
    "        ['4','5'],\n",
    "        ['5','6'],\n",
    "        ['6'],\n",
    "        []\n",
    "        ])"
   ]
  },
  {
   "cell_type": "code",
   "execution_count": null,
   "metadata": {},
   "outputs": [],
   "source": [
    "H2 = Hypergraph([\n",
    "        {3},\n",
    "        {3},\n",
    "        {1,3},\n",
    "        {1,2},\n",
    "        {2},\n",
    "        {}\n",
    "    ])"
   ]
  },
  {
   "cell_type": "code",
   "execution_count": 114,
   "metadata": {},
   "outputs": [],
   "source": [
    "H1 = Hypergraph([\n",
    "        {1,2,3},{3,4},{4,5},{1,2,3,4,5}\n",
    "    ])\n",
    "\n",
    "H2 = Hypergraph([\n",
    "        {9,10,11},\n",
    "        {8,9},\n",
    "        {7,8}\n",
    "    ])\n",
    "\n",
    "H3 = Hypergraph([\n",
    "        {13,14,15},\n",
    "        {15,16},\n",
    "        {17,18}\n",
    "    ])\n",
    "\n",
    "H4 = Hypergraph([\n",
    "        {1,2},\n",
    "        {1,5},\n",
    "        {4,5},\n",
    "        {3,4},\n",
    "        {1,2,3,4,5}\n",
    "    ])\n",
    "\n",
    "N4 = Hypergraph([\n",
    "        {1,2},\n",
    "        {1},\n",
    "        {3},\n",
    "        {3,4},\n",
    "        {2,3}\n",
    "        \n",
    "    ])"
   ]
  },
  {
   "cell_type": "code",
   "execution_count": 116,
   "metadata": {},
   "outputs": [
    {
     "name": "stdout",
     "output_type": "stream",
     "text": [
      "[[[2, 3], [1]], [[3, 4], [1, 2]], [[3]]]\n"
     ]
    },
    {
     "ename": "RuntimeError",
     "evalue": "No coloring can be defined when there is a set of size 1",
     "output_type": "error",
     "traceback": [
      "\u001b[0;31m---------------------------------------------------------------------------\u001b[0m",
      "\u001b[0;31mRuntimeError\u001b[0m                              Traceback (most recent call last)",
      "\u001b[0;32m<ipython-input-116-fb3ec1b9d686>\u001b[0m in \u001b[0;36m<module>\u001b[0;34m()\u001b[0m\n\u001b[1;32m      4\u001b[0m \u001b[0;31m# print(H3.edge_coloring())\u001b[0m\u001b[0;34m\u001b[0m\u001b[0;34m\u001b[0m\u001b[0m\n\u001b[1;32m      5\u001b[0m \u001b[0;32mprint\u001b[0m\u001b[0;34m(\u001b[0m\u001b[0mN4\u001b[0m\u001b[0;34m.\u001b[0m\u001b[0medge_coloring\u001b[0m\u001b[0;34m(\u001b[0m\u001b[0;34m)\u001b[0m\u001b[0;34m)\u001b[0m\u001b[0;34m\u001b[0m\u001b[0m\n\u001b[0;32m----> 6\u001b[0;31m \u001b[0;32mprint\u001b[0m\u001b[0;34m(\u001b[0m\u001b[0mN4\u001b[0m\u001b[0;34m.\u001b[0m\u001b[0mcoloring\u001b[0m\u001b[0;34m(\u001b[0m\u001b[0;34m)\u001b[0m\u001b[0;34m)\u001b[0m\u001b[0;34m\u001b[0m\u001b[0m\n\u001b[0m\u001b[1;32m      7\u001b[0m \u001b[0;31m# print(N4.edge_coloring())\u001b[0m\u001b[0;34m\u001b[0m\u001b[0;34m\u001b[0m\u001b[0m\n\u001b[1;32m      8\u001b[0m \u001b[0;31m# print(N4.edge_coloring())\u001b[0m\u001b[0;34m\u001b[0m\u001b[0;34m\u001b[0m\u001b[0m\n",
      "\u001b[0;32m/usr/lib/python2.7/dist-packages/sage/combinat/designs/incidence_structures.pyc\u001b[0m in \u001b[0;36mcoloring\u001b[0;34m(self, k, solver, verbose)\u001b[0m\n\u001b[1;32m   2027\u001b[0m             \u001b[0;32mfor\u001b[0m \u001b[0mk\u001b[0m \u001b[0;32min\u001b[0m \u001b[0mrange\u001b[0m\u001b[0;34m(\u001b[0m\u001b[0mself\u001b[0m\u001b[0;34m.\u001b[0m\u001b[0mnum_points\u001b[0m\u001b[0;34m(\u001b[0m\u001b[0;34m)\u001b[0m\u001b[0;34m+\u001b[0m\u001b[0;36m1\u001b[0m\u001b[0;34m)\u001b[0m\u001b[0;34m:\u001b[0m\u001b[0;34m\u001b[0m\u001b[0m\n\u001b[1;32m   2028\u001b[0m                 \u001b[0;32mtry\u001b[0m\u001b[0;34m:\u001b[0m\u001b[0;34m\u001b[0m\u001b[0m\n\u001b[0;32m-> 2029\u001b[0;31m                     \u001b[0;32mreturn\u001b[0m \u001b[0mself\u001b[0m\u001b[0;34m.\u001b[0m\u001b[0mcoloring\u001b[0m\u001b[0;34m(\u001b[0m\u001b[0mk\u001b[0m\u001b[0;34m)\u001b[0m\u001b[0;34m\u001b[0m\u001b[0m\n\u001b[0m\u001b[1;32m   2030\u001b[0m                 \u001b[0;32mexcept\u001b[0m \u001b[0mValueError\u001b[0m\u001b[0;34m:\u001b[0m\u001b[0;34m\u001b[0m\u001b[0m\n\u001b[1;32m   2031\u001b[0m                     \u001b[0;32mpass\u001b[0m\u001b[0;34m\u001b[0m\u001b[0m\n",
      "\u001b[0;32m/usr/lib/python2.7/dist-packages/sage/combinat/designs/incidence_structures.pyc\u001b[0m in \u001b[0;36mcoloring\u001b[0;34m(self, k, solver, verbose)\u001b[0m\n\u001b[1;32m   2036\u001b[0m             \u001b[0;32mreturn\u001b[0m \u001b[0;34m[\u001b[0m\u001b[0;34m]\u001b[0m\u001b[0;34m\u001b[0m\u001b[0m\n\u001b[1;32m   2037\u001b[0m         \u001b[0;32melif\u001b[0m \u001b[0many\u001b[0m\u001b[0;34m(\u001b[0m\u001b[0mlen\u001b[0m\u001b[0;34m(\u001b[0m\u001b[0mx\u001b[0m\u001b[0;34m)\u001b[0m \u001b[0;34m==\u001b[0m \u001b[0;36m1\u001b[0m \u001b[0;32mfor\u001b[0m \u001b[0mx\u001b[0m \u001b[0;32min\u001b[0m \u001b[0mself\u001b[0m\u001b[0;34m.\u001b[0m\u001b[0m_blocks\u001b[0m\u001b[0;34m)\u001b[0m\u001b[0;34m:\u001b[0m\u001b[0;34m\u001b[0m\u001b[0m\n\u001b[0;32m-> 2038\u001b[0;31m             raise RuntimeError(\"No coloring can be defined \"\n\u001b[0m\u001b[1;32m   2039\u001b[0m                                \"when there is a set of size 1\")\n\u001b[1;32m   2040\u001b[0m         \u001b[0;32melif\u001b[0m \u001b[0mk\u001b[0m \u001b[0;34m==\u001b[0m \u001b[0;36m1\u001b[0m\u001b[0;34m:\u001b[0m\u001b[0;34m\u001b[0m\u001b[0m\n",
      "\u001b[0;31mRuntimeError\u001b[0m: No coloring can be defined when there is a set of size 1"
     ]
    }
   ],
   "source": [
    "# print(H1.edge_coloring())\n",
    "\n",
    "# print(H2.edge_coloring())\n",
    "# print(H3.edge_coloring())\n",
    "print(N4.edge_coloring())\n",
    "print(N4.coloring())\n",
    "# print(N4.edge_coloring())\n",
    "# print(N4.edge_coloring())"
   ]
  },
  {
   "cell_type": "code",
   "execution_count": null,
   "metadata": {},
   "outputs": [],
   "source": [
    "Hypergraph()"
   ]
  },
  {
   "cell_type": "code",
   "execution_count": null,
   "metadata": {},
   "outputs": [],
   "source": []
  },
  {
   "cell_type": "code",
   "execution_count": 71,
   "metadata": {},
   "outputs": [],
   "source": [
    "H5 = Hypergraph([\n",
    "        {1,2,3,4},\n",
    "        {3,4,5,6},\n",
    "        {2,4,6}\n",
    "    ])"
   ]
  },
  {
   "cell_type": "code",
   "execution_count": 77,
   "metadata": {},
   "outputs": [],
   "source": [
    "C = [[[3, 4, 5]], [[2, 3, 4]], [[4, 5, 6], [1, 2, 3]]]"
   ]
  },
  {
   "cell_type": "code",
   "execution_count": 78,
   "metadata": {},
   "outputs": [
    {
     "data": {
      "text/plain": [
       "{{1, 2, 3}, {2, 3, 4}, {3, 4, 5}, {4, 5, 6}}"
      ]
     },
     "execution_count": 78,
     "metadata": {},
     "output_type": "execute_result"
    }
   ],
   "source": [
    "Set(map(Set,sum(C,[])))"
   ]
  },
  {
   "cell_type": "code",
   "execution_count": 73,
   "metadata": {},
   "outputs": [
    {
     "name": "stdout",
     "output_type": "stream",
     "text": [
      "[[4], [1, 3, 6, 5, 2]]\n",
      "[[[3, 4, 5, 6]], [[2, 4, 6]], [[1, 2, 3, 4]]]\n"
     ]
    }
   ],
   "source": [
    "print(H5.coloring())\n",
    "print(H5.edge_coloring())"
   ]
  },
  {
   "cell_type": "code",
   "execution_count": 76,
   "metadata": {},
   "outputs": [
    {
     "data": {
      "text/plain": [
       "False"
      ]
     },
     "execution_count": 76,
     "metadata": {},
     "output_type": "execute_result"
    }
   ],
   "source": [
    "H5.edge_coloring()"
   ]
  },
  {
   "cell_type": "code",
   "execution_count": 61,
   "metadata": {},
   "outputs": [],
   "source": []
  },
  {
   "cell_type": "code",
   "execution_count": 65,
   "metadata": {},
   "outputs": [
    {
     "data": {
      "text/plain": [
       "[[[1, 2, 3], [4, 5]], [[3, 4]]]"
      ]
     },
     "execution_count": 65,
     "metadata": {},
     "output_type": "execute_result"
    }
   ],
   "source": []
  },
  {
   "cell_type": "code",
   "execution_count": 24,
   "metadata": {},
   "outputs": [],
   "source": [
    "X1 = Hypergraph([\n",
    "        ['4','5'],\n",
    "        ['5','6'],\n",
    "        ])"
   ]
  },
  {
   "cell_type": "code",
   "execution_count": 28,
   "metadata": {},
   "outputs": [
    {
     "data": {
      "text/plain": [
       "[[['4', '5'], ['6'], []], [['5', '6'], ['4']], [['4']]]"
      ]
     },
     "execution_count": 28,
     "metadata": {},
     "output_type": "execute_result"
    }
   ],
   "source": [
    "X1.edge_coloring()"
   ]
  },
  {
   "cell_type": "code",
   "execution_count": 4,
   "metadata": {},
   "outputs": [],
   "source": [
    "# Our original hypergraph1 and hypergraph2\n",
    "H1 = Hypergraph([\n",
    "        ['a','b','c'],\n",
    "        ['a','b'],\n",
    "        ['a','b','c','d'],\n",
    "        [],\n",
    "        ['e','d'],\n",
    "        ['a','d','e']\n",
    "    ])\n",
    "H2 = Hypergraph([\n",
    "        [],\n",
    "        ['f','g','h'],\n",
    "        ['f','g'],\n",
    "        ['i','j'],\n",
    "        ['f','g','h','i'],\n",
    "        ['f','i','j']\n",
    "    ])"
   ]
  },
  {
   "cell_type": "code",
   "execution_count": 12,
   "metadata": {},
   "outputs": [
    {
     "data": {
      "text/plain": [
       "{'A': 'Z',\n",
       " 'B': 'Y',\n",
       " 'C': 'X',\n",
       " 'D': 'W',\n",
       " 'E': 'V',\n",
       " 'F': 'U',\n",
       " 'G': 'T',\n",
       " 'H': 'S',\n",
       " 'I': 'R',\n",
       " 'J': 'Q',\n",
       " 'K': 'P'}"
      ]
     },
     "execution_count": 12,
     "metadata": {},
     "output_type": "execute_result"
    }
   ],
   "source": [
    "N1 = [\n",
    "        [],\n",
    "        ['A','H','I','K'],\n",
    "        ['A','H'],\n",
    "        ['E','H'],\n",
    "        ['A','E','H','K'],\n",
    "        ['A','D','J'],\n",
    "        ['C','E','K'],\n",
    "        ['E','F','I'],\n",
    "        ['D','J'],\n",
    "        ['B','C'],\n",
    "        ['B','F','I','K'],\n",
    "        ['B','D','G'],\n",
    "        ['C','K'],\n",
    "        ['C','G'],\n",
    "        ['G','J'],\n",
    "        ['G']\n",
    "    ]\n",
    "H1 = Hypergraph(N1)\n",
    "\n",
    "N2 = [\n",
    "        ['T','Q'],\n",
    "        ['Y','W','T'],\n",
    "        ['W','Q'],\n",
    "        ['Z','W','Q'],\n",
    "        ['Z','S'],\n",
    "        ['X','T'],\n",
    "        ['Y','U','R','P'],\n",
    "        ['V','U','R'],\n",
    "        ['Z','V','S','P'],\n",
    "        ['Z','S','R','P'],\n",
    "        ['X','P'],\n",
    "        ['Y','X'],\n",
    "        ['X','V','P'],\n",
    "        ['V','S'],\n",
    "        [],\n",
    "        ['T']\n",
    "    ]\n",
    "\n",
    "\n",
    "\n",
    "\n",
    "\n",
    "\n",
    "H2 = Hypergraph(N2)\n",
    "H1.is_isomorphic(H2, certificate=True)"
   ]
  },
  {
   "cell_type": "code",
   "execution_count": 13,
   "metadata": {},
   "outputs": [
    {
     "name": "stdout",
     "output_type": "stream",
     "text": [
      "{'1': '4', '3': '1', '2': '2', '4': '3'}\n",
      "{0: 1, 1: 3, 2: 2, 3: 0, 4: 4}\n"
     ]
    }
   ],
   "source": [
    "NodeList1 = [\n",
    "    ['3','4'],\n",
    "    ['2','3'],\n",
    "    ['1','2','3'],\n",
    "    ['1','2'],\n",
    "    ['1','3','4']\n",
    "]\n",
    "\n",
    "NodeList2 = [\n",
    "    ['2','4'],\n",
    "    ['1','3'],\n",
    "    ['1','2','4'],\n",
    "    ['1','2'],\n",
    "    ['1','3','4']\n",
    "]\n",
    "\n",
    "HG1 = Hypergraph(NodeList1)\n",
    "HG2 = Hypergraph(NodeList2)\n",
    "print(HG1.is_isomorphic(HG2, certificate=True))\n",
    "\n",
    "\n",
    "EdgeList1 = [[] for i in range(HG1.num_blocks())]\n",
    "for i, row in enumerate(NodeList1):\n",
    "    for element in row:\n",
    "        EdgeList1[int(element)].append(i)\n",
    "\n",
    "EdgeList2 = [[] for i in range(HG2.num_blocks())]\n",
    "for i, row in enumerate(NodeList2):\n",
    "    for element in row:\n",
    "        EdgeList2[int(element)].append(i)\n",
    "\n",
    "HG1e = Hypergraph(EdgeList1)\n",
    "HG2e = Hypergraph(EdgeList2)\n",
    "print(HG1e.is_isomorphic(HG2e, certificate=True))"
   ]
  },
  {
   "cell_type": "code",
   "execution_count": 7,
   "metadata": {},
   "outputs": [],
   "source": [
    "D = DiGraph()\n"
   ]
  },
  {
   "cell_type": "code",
   "execution_count": 110,
   "metadata": {},
   "outputs": [
    {
     "data": {
      "text/plain": [
       "[[0], [0, 1]]"
      ]
     },
     "execution_count": 110,
     "metadata": {},
     "output_type": "execute_result"
    }
   ],
   "source": []
  },
  {
   "cell_type": "code",
   "execution_count": 93,
   "metadata": {},
   "outputs": [
    {
     "data": {
      "text/plain": [
       "[[],\n",
       " ['A', 'D', 'J'],\n",
       " ['A', 'E', 'H', 'K'],\n",
       " ['A', 'H'],\n",
       " ['A', 'H', 'I', 'K'],\n",
       " ['B', 'C'],\n",
       " ['B', 'D', 'G'],\n",
       " ['B', 'F', 'I', 'K'],\n",
       " ['C', 'E', 'K'],\n",
       " ['C', 'G'],\n",
       " ['C', 'K'],\n",
       " ['D', 'J'],\n",
       " ['E', 'F', 'I'],\n",
       " ['E', 'H'],\n",
       " ['G'],\n",
       " ['G', 'J']]"
      ]
     },
     "execution_count": 93,
     "metadata": {},
     "output_type": "execute_result"
    }
   ],
   "source": [
    "H1.blocks()"
   ]
  },
  {
   "cell_type": "code",
   "execution_count": 94,
   "metadata": {},
   "outputs": [
    {
     "data": {
      "text/plain": [
       "[[],\n",
       " ['P', 'R', 'S', 'Z'],\n",
       " ['P', 'R', 'U', 'Y'],\n",
       " ['P', 'S', 'V', 'Z'],\n",
       " ['P', 'V', 'X'],\n",
       " ['P', 'X'],\n",
       " ['Q', 'T'],\n",
       " ['Q', 'W'],\n",
       " ['Q', 'W', 'Z'],\n",
       " ['R', 'U', 'V'],\n",
       " ['S', 'V'],\n",
       " ['S', 'Z'],\n",
       " ['T'],\n",
       " ['T', 'W', 'Y'],\n",
       " ['T', 'X'],\n",
       " ['X', 'Y']]"
      ]
     },
     "execution_count": 94,
     "metadata": {},
     "output_type": "execute_result"
    }
   ],
   "source": [
    "H2.blocks()"
   ]
  },
  {
   "cell_type": "code",
   "execution_count": 107,
   "metadata": {},
   "outputs": [
    {
     "data": {
      "text/plain": [
       "16"
      ]
     },
     "execution_count": 107,
     "metadata": {},
     "output_type": "execute_result"
    }
   ],
   "source": [
    "H1.num_blocks()"
   ]
  },
  {
   "cell_type": "code",
   "execution_count": 98,
   "metadata": {},
   "outputs": [
    {
     "data": {
      "text/plain": [
       "[[], [], [], [], [], [], [], [], [], [], [], [], [], [], []]"
      ]
     },
     "execution_count": 98,
     "metadata": {},
     "output_type": "execute_result"
    }
   ],
   "source": [
    "x = [[] for i in range()]\n",
    "x"
   ]
  },
  {
   "cell_type": "code",
   "execution_count": 82,
   "metadata": {},
   "outputs": [
    {
     "data": {
      "text/plain": [
       "{'5': '2', '6': '1', '7': '3', '8': '4'}"
      ]
     },
     "execution_count": 82,
     "metadata": {},
     "output_type": "execute_result"
    }
   ],
   "source": [
    "H1 = Hypergraph([\n",
    "        ['5','6','7','8'],\n",
    "        ['5','6'],\n",
    "        ['7','8'],\n",
    "        ['5','7']\n",
    "    ])\n",
    "H2 = Hypergraph([\n",
    "        ['1','2','3','4'],\n",
    "        ['3','4'],\n",
    "        ['1','2'],\n",
    "        ['2','3']\n",
    "    ])\n",
    "H1.is_isomorphic(H2, certificate=True)"
   ]
  },
  {
   "cell_type": "code",
   "execution_count": 60,
   "metadata": {},
   "outputs": [],
   "source": [
    "mapping = H1.is_isomorphic(H2, certificate=True)\n",
    "# relabel edges of HG1 with edge labels of HG2\n",
    "H1.relabel(mapping)\n",
    "# iterate through hg1, comparing values from hg1 to hg2\n",
    "\n",
    "# if values are identical, "
   ]
  },
  {
   "cell_type": "code",
   "execution_count": 65,
   "metadata": {},
   "outputs": [
    {
     "data": {
      "text/plain": [
       "([[],\n",
       "  ['P', 'R', 'S', 'Z'],\n",
       "  ['P', 'R', 'U', 'Y'],\n",
       "  ['P', 'S', 'V', 'Z'],\n",
       "  ['P', 'V', 'X'],\n",
       "  ['P', 'X'],\n",
       "  ['Q', 'T'],\n",
       "  ['Q', 'W'],\n",
       "  ['Q', 'W', 'Z'],\n",
       "  ['R', 'U', 'V'],\n",
       "  ['S', 'V'],\n",
       "  ['S', 'Z'],\n",
       "  ['T'],\n",
       "  ['T', 'W', 'Y'],\n",
       "  ['T', 'X'],\n",
       "  ['X', 'Y']],\n",
       " [[],\n",
       "  ['A', 'D', 'J'],\n",
       "  ['A', 'E', 'H', 'K'],\n",
       "  ['A', 'H'],\n",
       "  ['A', 'H', 'I', 'K'],\n",
       "  ['B', 'C'],\n",
       "  ['B', 'D', 'G'],\n",
       "  ['B', 'F', 'I', 'K'],\n",
       "  ['C', 'E', 'K'],\n",
       "  ['C', 'G'],\n",
       "  ['C', 'K'],\n",
       "  ['D', 'J'],\n",
       "  ['E', 'F', 'I'],\n",
       "  ['E', 'H'],\n",
       "  ['G'],\n",
       "  ['G', 'J']])"
      ]
     },
     "execution_count": 65,
     "metadata": {},
     "output_type": "execute_result"
    }
   ],
   "source": []
  },
  {
   "cell_type": "code",
   "execution_count": 45,
   "metadata": {},
   "outputs": [
    {
     "data": {
      "text/plain": [
       "[[['P', 'S', 'V', 'Z'], ['X', 'Y'], ['Q', 'T'], []],\n",
       " [['P', 'R', 'S', 'Z'], ['T', 'X'], ['Q', 'W']],\n",
       " [['P', 'R', 'U', 'Y'], ['S', 'V'], ['Q', 'W', 'Z'], ['T']],\n",
       " [['P', 'X'], ['R', 'U', 'V'], ['T', 'W', 'Y'], ['S', 'Z']],\n",
       " [['P', 'V', 'X']]]"
      ]
     },
     "execution_count": 45,
     "metadata": {},
     "output_type": "execute_result"
    }
   ],
   "source": [
    "H2.edge_coloring()"
   ]
  },
  {
   "cell_type": "code",
   "execution_count": 29,
   "metadata": {},
   "outputs": [],
   "source": [
    "d = H1.is_isomorphic(H2, certificate=True)"
   ]
  },
  {
   "cell_type": "code",
   "execution_count": 31,
   "metadata": {},
   "outputs": [],
   "source": [
    "H1.relabel(d)"
   ]
  },
  {
   "cell_type": "code",
   "execution_count": 33,
   "metadata": {},
   "outputs": [
    {
     "data": {
      "text/plain": [
       "[[],\n",
       " ['Z', 'W', 'Q'],\n",
       " ['Z', 'V', 'S', 'P'],\n",
       " ['Z', 'S'],\n",
       " ['Z', 'S', 'R', 'P'],\n",
       " ['Y', 'X'],\n",
       " ['Y', 'W', 'T'],\n",
       " ['Y', 'U', 'R', 'P'],\n",
       " ['X', 'V', 'P'],\n",
       " ['X', 'T'],\n",
       " ['X', 'P'],\n",
       " ['W', 'Q'],\n",
       " ['V', 'U', 'R'],\n",
       " ['V', 'S'],\n",
       " ['T'],\n",
       " ['T', 'Q']]"
      ]
     },
     "execution_count": 33,
     "metadata": {},
     "output_type": "execute_result"
    }
   ],
   "source": [
    "H1.blocks()"
   ]
  },
  {
   "cell_type": "code",
   "execution_count": 34,
   "metadata": {},
   "outputs": [
    {
     "data": {
      "text/plain": [
       "[[],\n",
       " ['P', 'R', 'S', 'Z'],\n",
       " ['P', 'R', 'U', 'Y'],\n",
       " ['P', 'S', 'V', 'Z'],\n",
       " ['P', 'V', 'X'],\n",
       " ['P', 'X'],\n",
       " ['Q', 'T'],\n",
       " ['Q', 'W'],\n",
       " ['Q', 'W', 'Z'],\n",
       " ['R', 'U', 'V'],\n",
       " ['S', 'V'],\n",
       " ['S', 'Z'],\n",
       " ['T'],\n",
       " ['T', 'W', 'Y'],\n",
       " ['T', 'X'],\n",
       " ['X', 'Y']]"
      ]
     },
     "execution_count": 34,
     "metadata": {},
     "output_type": "execute_result"
    }
   ],
   "source": [
    "H2.blocks()"
   ]
  },
  {
   "cell_type": "code",
   "execution_count": 56,
   "metadata": {},
   "outputs": [
    {
     "data": {
      "text/plain": [
       "{'a': 'f', 'b': 'g', 'c': 'h', 'd': 'i', 'e': 'j'}"
      ]
     },
     "execution_count": 56,
     "metadata": {},
     "output_type": "execute_result"
    }
   ],
   "source": [
    "# With mapping\n",
    "H1.is_isomorphic(H2,certificate=True)"
   ]
  },
  {
   "cell_type": "code",
   "execution_count": 11,
   "metadata": {},
   "outputs": [
    {
     "data": {
      "image/png": "[encoded data removed]",
      "text/plain": [
       "Graphics object consisting of 67 graphics primitives"
      ]
     },
     "execution_count": 11,
     "metadata": {},
     "output_type": "execute_result"
    }
   ],
   "source": [
    "plot(H1.incidence_graph(labels=True))"
   ]
  },
  {
   "cell_type": "code",
   "execution_count": null,
   "metadata": {},
   "outputs": [],
   "source": [
    "X = Hypergraph([''])"
   ]
  }
 ],
 "metadata": {
  "kernelspec": {
   "display_name": "SageMath 8.1",
   "language": "",
   "name": "sagemath"
  },
  "language_info": {
   "codemirror_mode": {
    "name": "ipython",
    "version": 2
   },
   "file_extension": ".py",
   "mimetype": "text/x-python",
   "name": "python",
   "nbconvert_exporter": "python",
   "pygments_lexer": "ipython2",
   "version": "2.7.15rc1"
  }
 },
 "nbformat": 4,
 "nbformat_minor": 2
}
