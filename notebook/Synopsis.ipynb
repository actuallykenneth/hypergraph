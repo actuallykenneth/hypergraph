{
 "cells": [
  {
   "cell_type": "markdown",
   "metadata": {},
   "source": [
    "# Hypergraphs"
   ]
  },
  {
   "cell_type": "markdown",
   "metadata": {},
   "source": [
    "## Goal: Represent a hypergraph in a data structure that allows for isomorphism testing with another hypergraph.\n",
    "\n",
    "### What is a \"hypergraph\"?\n",
    "\n",
    "Whereas a standard graph is a set of \"edges\" that connect two \"nodes,\" a hypergraph is a more generalized version that allows for an *arbitrary number* of nodes to be connected by--or \"contained within\"--an edge.\n",
    "\n",
    "### What is the problem?\n",
    "\n",
    "Hypergraphs don't seem to be as popularly explored in the literature. That is, there doesn't appear to be much in the way of libraries that already deal with hypergraphs. For example, NetworkX, a commonly used library for graph exploration in Python, appears to lack functions that test for isomorphism of two hypergraphs."
   ]
  },
  {
   "cell_type": "code",
   "execution_count": 1,
   "metadata": {},
   "outputs": [
    {
     "ename": "ModuleNotFoundError",
     "evalue": "No module named 'pandas'",
     "output_type": "error",
     "traceback": [
      "\u001b[0;31m---------------------------------------------------------------------------\u001b[0m",
      "\u001b[0;31mModuleNotFoundError\u001b[0m                       Traceback (most recent call last)",
      "\u001b[0;32m<ipython-input-1-785e0d526939>\u001b[0m in \u001b[0;36m<module>\u001b[0;34m()\u001b[0m\n\u001b[1;32m      1\u001b[0m \u001b[0;31m#imports\u001b[0m\u001b[0;34m\u001b[0m\u001b[0;34m\u001b[0m\u001b[0m\n\u001b[0;32m----> 2\u001b[0;31m \u001b[0;32mimport\u001b[0m \u001b[0mpandas\u001b[0m \u001b[0;32mas\u001b[0m \u001b[0mpd\u001b[0m\u001b[0;34m\u001b[0m\u001b[0m\n\u001b[0m\u001b[1;32m      3\u001b[0m \u001b[0;32mimport\u001b[0m \u001b[0mnumpy\u001b[0m \u001b[0;32mas\u001b[0m \u001b[0mnp\u001b[0m\u001b[0;34m\u001b[0m\u001b[0m\n\u001b[1;32m      4\u001b[0m \u001b[0;32mimport\u001b[0m \u001b[0mnetworkx\u001b[0m \u001b[0;32mas\u001b[0m \u001b[0mnx\u001b[0m\u001b[0;34m\u001b[0m\u001b[0m\n\u001b[1;32m      5\u001b[0m \u001b[0mget_ipython\u001b[0m\u001b[0;34m(\u001b[0m\u001b[0;34m)\u001b[0m\u001b[0;34m.\u001b[0m\u001b[0mmagic\u001b[0m\u001b[0;34m(\u001b[0m\u001b[0;34m'matplotlib inline'\u001b[0m\u001b[0;34m)\u001b[0m\u001b[0;34m\u001b[0m\u001b[0m\n",
      "\u001b[0;31mModuleNotFoundError\u001b[0m: No module named 'pandas'"
     ]
    }
   ],
   "source": [
    "#imports\n",
    "import pandas as pd\n",
    "import numpy as np\n",
    "import networkx as nx\n",
    "%matplotlib inline"
   ]
  },
  {
   "cell_type": "markdown",
   "metadata": {},
   "source": [
    "### Initial attempt with some thrown together functions gathered online\n"
   ]
  },
  {
   "cell_type": "code",
   "execution_count": 2,
   "metadata": {},
   "outputs": [],
   "source": [
    "import random\n",
    "import math\n",
    "import itertools\n",
    "\n",
    "def generate_hypergraph(n=6, number_of_edges=None, k=3):\n",
    "    vertices = range(1, n + 1)\n",
    "    if number_of_edges is None:\n",
    "        number_of_edges = int(math.sqrt(n))\n",
    "    hyper_edges = random.sample(list(itertools.combinations(vertices, k)), number_of_edges)\n",
    "    return (vertices, hyper_edges)\n",
    "\n",
    "def convert_to_nx_biparty_graph(vertices, hyper_edges):\n",
    "    G = nx.Graph()\n",
    "    G.add_nodes_from(vertices)\n",
    "    G.add_nodes_from(hyper_edges)\n",
    "    for e in hyper_edges:\n",
    "        for n in e:\n",
    "            G.add_edge(n, e)\n",
    "    return G"
   ]
  },
  {
   "cell_type": "markdown",
   "metadata": {},
   "source": [
    "Let's try to make a hypergraph in NetworkX"
   ]
  },
  {
   "cell_type": "code",
   "execution_count": 3,
   "metadata": {},
   "outputs": [],
   "source": [
    "G = nx.Graph()  # instantiate the graph\n",
    "G.add_node('A')  # Add node\n",
    "G.add_node('B')\n",
    "G.add_edge('A', 'B', color='blue')  # Add edge--and an attribute"
   ]
  },
  {
   "cell_type": "code",
   "execution_count": 4,
   "metadata": {},
   "outputs": [
    {
     "name": "stdout",
     "output_type": "stream",
     "text": [
      "A\n",
      "B\n",
      "('A', 'B')\n"
     ]
    }
   ],
   "source": [
    "for node in G.nodes:\n",
    "    print(node)\n",
    "for edge in G.edges:\n",
    "    print(edge)"
   ]
  },
  {
   "cell_type": "code",
   "execution_count": 5,
   "metadata": {},
   "outputs": [
    {
     "name": "stdout",
     "output_type": "stream",
     "text": [
      "blue\n"
     ]
    }
   ],
   "source": [
    "# We can access the attributes later this way. This will come in handy somehow.\n",
    "color = nx.get_edge_attributes(G, 'color')\n",
    "\n",
    "for edge in G.edges:\n",
    "    print(color[edge])"
   ]
  },
  {
   "cell_type": "markdown",
   "metadata": {},
   "source": [
    "#### So what's the problem?\n",
    "The problem is that the graph algorithms in NetworkX operate on normal graphs. Specifically, the Graph class's add_edge() method expects two node names and no more."
   ]
  },
  {
   "cell_type": "code",
   "execution_count": 6,
   "metadata": {},
   "outputs": [
    {
     "ename": "TypeError",
     "evalue": "add_edge() takes 3 positional arguments but 4 were given",
     "output_type": "error",
     "traceback": [
      "\u001b[0;31m---------------------------------------------------------------------------\u001b[0m",
      "\u001b[0;31mTypeError\u001b[0m                                 Traceback (most recent call last)",
      "\u001b[0;32m<ipython-input-6-53d3854b972a>\u001b[0m in \u001b[0;36m<module>\u001b[0;34m()\u001b[0m\n\u001b[1;32m      1\u001b[0m \u001b[0mGG\u001b[0m \u001b[0;34m=\u001b[0m \u001b[0mnx\u001b[0m\u001b[0;34m.\u001b[0m\u001b[0mGraph\u001b[0m\u001b[0;34m(\u001b[0m\u001b[0;34m)\u001b[0m\u001b[0;34m\u001b[0m\u001b[0m\n\u001b[1;32m      2\u001b[0m \u001b[0mGG\u001b[0m\u001b[0;34m.\u001b[0m\u001b[0madd_node\u001b[0m\u001b[0;34m(\u001b[0m\u001b[0;34m'A'\u001b[0m\u001b[0;34m)\u001b[0m\u001b[0;34m;\u001b[0m \u001b[0mGG\u001b[0m\u001b[0;34m.\u001b[0m\u001b[0madd_node\u001b[0m\u001b[0;34m(\u001b[0m\u001b[0;34m'B'\u001b[0m\u001b[0;34m)\u001b[0m\u001b[0;34m;\u001b[0m \u001b[0mGG\u001b[0m\u001b[0;34m.\u001b[0m\u001b[0madd_node\u001b[0m\u001b[0;34m(\u001b[0m\u001b[0;34m'C'\u001b[0m\u001b[0;34m)\u001b[0m\u001b[0;34m\u001b[0m\u001b[0m\n\u001b[0;32m----> 3\u001b[0;31m \u001b[0mGG\u001b[0m\u001b[0;34m.\u001b[0m\u001b[0madd_edge\u001b[0m\u001b[0;34m(\u001b[0m\u001b[0;34m'A'\u001b[0m\u001b[0;34m,\u001b[0m\u001b[0;34m'B'\u001b[0m\u001b[0;34m,\u001b[0m\u001b[0;34m'C'\u001b[0m\u001b[0;34m)\u001b[0m  \u001b[0;31m# fails because of the third node\u001b[0m\u001b[0;34m\u001b[0m\u001b[0m\n\u001b[0m",
      "\u001b[0;31mTypeError\u001b[0m: add_edge() takes 3 positional arguments but 4 were given"
     ]
    }
   ],
   "source": [
    "GG = nx.Graph()\n",
    "GG.add_node('A'); GG.add_node('B'); GG.add_node('C')\n",
    "GG.add_edge('A','B','C')  # fails because of the third node"
   ]
  },
  {
   "cell_type": "markdown",
   "metadata": {},
   "source": [
    "#### So what's the potential solution?\n",
    "We can pass in tuples of an arbitrary number of nodes (or any object we want, actually) instead."
   ]
  },
  {
   "cell_type": "code",
   "execution_count": 7,
   "metadata": {},
   "outputs": [],
   "source": [
    "GG = nx.Graph()\n",
    "GG.add_node('A'); GG.add_node('B'); GG.add_node('C')\n",
    "GG.add_edge(('A','B'),'C')  # Works when it is a tuple for the first argument"
   ]
  },
  {
   "cell_type": "markdown",
   "metadata": {},
   "source": [
    "But this is clearly not what we want (visually, at least):"
   ]
  },
  {
   "cell_type": "code",
   "execution_count": 8,
   "metadata": {},
   "outputs": [
    {
     "data": {
      "image/png": "[encoded data removed]",
      "text/plain": [
       "<Figure size 432x288 with 1 Axes>"
      ]
     },
     "metadata": {},
     "output_type": "display_data"
    }
   ],
   "source": [
    "nx.draw(GG, with_labels=True)"
   ]
  },
  {
   "cell_type": "markdown",
   "metadata": {},
   "source": [
    "So my next thought was that we could visualize them using different colors for edges. For example, a green line connecting A to C and A to B would represent the green edge containing those. Another edge, blue, connecting A to D would be a separate edge containing those."
   ]
  },
  {
   "cell_type": "code",
   "execution_count": 9,
   "metadata": {},
   "outputs": [
    {
     "data": {
      "image/png": "[encoded data removed]",
      "text/plain": [
       "<Figure size 432x288 with 1 Axes>"
      ]
     },
     "metadata": {},
     "output_type": "display_data"
    }
   ],
   "source": [
    "GG = nx.Graph()\n",
    "GG.add_node('A'); GG.add_node('B'); GG.add_node('C'); GG.add_node('D')\n",
    "GG.add_edge('A','C', color='g')\n",
    "GG.add_edge('A', 'B', color='g')\n",
    "GG.add_edge('A', 'D', color='b')\n",
    "\n",
    "colors = [GG[u][v]['color'] for u,v in GG.edges]\n",
    "\n",
    "nx.draw(GG, with_labels=True, edge_color=colors)"
   ]
  },
  {
   "cell_type": "markdown",
   "metadata": {},
   "source": [
    "But, again, more difficulties: the nx graph plotting doesn't allow for multiple edges connecting two nodes (because nobody seems to care about hypergraphs!). So if there is overlap (which, of course, there is going to be), we will not get what we want. For example, the same green edge, except the blue edge contains C and A results in part of the green edge being overwritten by the blue."
   ]
  },
  {
   "cell_type": "code",
   "execution_count": 10,
   "metadata": {},
   "outputs": [
    {
     "data": {
      "image/png": "[encoded data removed]",
      "text/plain": [
       "<Figure size 432x288 with 1 Axes>"
      ]
     },
     "metadata": {},
     "output_type": "display_data"
    }
   ],
   "source": [
    "GG = nx.Graph()\n",
    "GG.add_node('A'); GG.add_node('B'); GG.add_node('C'); GG.add_node('D')\n",
    "GG.add_edge('A','C', color='g')\n",
    "GG.add_edge('A', 'B', color='g')\n",
    "GG.add_edge('C', 'A', color='b')\n",
    "\n",
    "colors = [GG[u][v]['color'] for u,v in GG.edges]\n",
    "\n",
    "nx.draw(GG, with_labels=True, edge_color=colors)"
   ]
  },
  {
   "cell_type": "markdown",
   "metadata": {},
   "source": [
    "So how can we achieve this? It can probably be done in a very hackish way:"
   ]
  },
  {
   "cell_type": "markdown",
   "metadata": {},
   "source": [
    "So you can understand what is going on here, I installed a popular open source visualization called \"Graphviz\". On your Macs (now that you have Homebrew installed ;) you can do this by typing:\n",
    "```bash\n",
    "brew install graphviz\n",
    "```\n",
    "Then, after that, I installed two python modules, pydot and pygraphviz. First update conda:\n",
    "```bash\n",
    "conda update conda\n",
    "```\n",
    "Then install the modules:\n",
    "```bash\n",
    "conda install pygraphviz\n",
    "conda install pydot\n",
    "```\n",
    "This allowed me to\n",
    "* Write a .dot file, which is a description of a plot that graphviz uses to generate the plot\n",
    "* Call the \"neato\" command-line program that draws an undirected graph"
   ]
  },
  {
   "cell_type": "code",
   "execution_count": 11,
   "metadata": {},
   "outputs": [],
   "source": [
    "from networkx.drawing.nx_pydot import write_dot\n",
    "\n",
    "G = nx.MultiGraph()\n",
    "G.add_edge('A','C')\n",
    "G.add_edge('A', 'B')\n",
    "G.add_edge('C', 'A')\n",
    "G.add_edge('C', 'D')\n",
    "write_dot(G, 'multiplot.dot')\n",
    "\n",
    "# When you preface a line with ! in Jupyter, it interprets it \n",
    "#   as a call to the bash shell, in this case calling neato, \n",
    "#   having it generate the \"raw\" data for an image file, \n",
    "#   which I then redirect to \"multiplot.png\", generating an image file\n",
    "!neato -T png multiplot.dot > multiplot.png"
   ]
  },
  {
   "cell_type": "markdown",
   "metadata": {},
   "source": [
    "But then you have to actually display the outputted image in the Jupyter notebook:"
   ]
  },
  {
   "cell_type": "markdown",
   "metadata": {},
   "source": [
    "![title](multiplot.png)"
   ]
  },
  {
   "cell_type": "markdown",
   "metadata": {},
   "source": [
    "So we have the two edges now, but we need to colorize them. I am sure there is some way to do it in the Python code itself, but just to make sure it's possible, I went in and modified the .dot file myself with a text editor. This is how it looked before:"
   ]
  },
  {
   "cell_type": "code",
   "execution_count": 12,
   "metadata": {},
   "outputs": [
    {
     "name": "stdout",
     "output_type": "stream",
     "text": [
      "graph  {\r\n",
      "A;\r\n",
      "C;\r\n",
      "B;\r\n",
      "D;\r\n",
      "A -- C  [key=0];\r\n",
      "A -- C  [key=1];\r\n",
      "A -- B  [key=0];\r\n",
      "C -- D  [key=0];\r\n",
      "}\r\n"
     ]
    }
   ],
   "source": [
    "!cat multiplot.dot"
   ]
  },
  {
   "cell_type": "markdown",
   "metadata": {},
   "source": [
    "This is how it looks now (color tags added):"
   ]
  },
  {
   "cell_type": "code",
   "execution_count": 13,
   "metadata": {},
   "outputs": [
    {
     "name": "stdout",
     "output_type": "stream",
     "text": [
      "graph  {\r\n",
      "A;\r\n",
      "C;\r\n",
      "B;\r\n",
      "D;\r\n",
      "A -- C  [color=red] [key=0];\r\n",
      "A -- C  [color=blue] [key=1];\r\n",
      "A -- B  [color=red] [key=0];\r\n",
      "C -- D  [color=blue] [key=0];\r\n",
      "}\r\n"
     ]
    }
   ],
   "source": [
    "!cat multiplot_color.dot"
   ]
  },
  {
   "cell_type": "code",
   "execution_count": 14,
   "metadata": {},
   "outputs": [],
   "source": [
    "!neato -T png multiplot_color.dot > multiplot_color.png"
   ]
  },
  {
   "cell_type": "markdown",
   "metadata": {},
   "source": [
    "![title](multiplot_color.png)"
   ]
  },
  {
   "cell_type": "markdown",
   "metadata": {},
   "source": [
    "#### Todo: Check to see if the could_be_isomorphic() is actually working or not with a hypergraph structure\n",
    "\n",
    "for i in range(100):\n",
    "    g1 = generate_hypergraph(number_of_edges=11)\n",
    "    g2 = generate_hypergraph(number_of_edges=11)\n",
    "    G1 = convert_to_nx_biparty_graph(*g1)\n",
    "    G2 = convert_to_nx_biparty_graph(*g2)\n",
    "    if nx.could_be_isomorphic(G1, G2):\n",
    "        print('could be')\n",
    "    else:\n",
    "        print('can\\'t be')\n",
    "    if nx.is_isomorphic(G1, G2):\n",
    "        print('is')\n",
    "    else:\n",
    "        print('is not')"
   ]
  },
  {
   "cell_type": "code",
   "execution_count": null,
   "metadata": {},
   "outputs": [],
   "source": []
  }
 ],
 "metadata": {
  "kernelspec": {
   "display_name": "Python 3",
   "language": "python",
   "name": "python3"
  },
  "language_info": {
   "codemirror_mode": {
    "name": "ipython",
    "version": 3
   },
   "file_extension": ".py",
   "mimetype": "text/x-python",
   "name": "python",
   "nbconvert_exporter": "python",
   "pygments_lexer": "ipython3",
   "version": "3.6.6"
  }
 },
 "nbformat": 4,
 "nbformat_minor": 2
}
