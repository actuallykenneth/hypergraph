{
 "cells": [
  {
   "cell_type": "code",
   "execution_count": 60,
   "metadata": {},
   "outputs": [],
   "source": [
    "from itertools import permutations\n",
    "def generate_edges(inc_size, vert):\n",
    "    '''Generate the permutations of an edge\n",
    "    \n",
    "    inc_size = incidence list size\n",
    "    vert = number of vertices\n",
    "    '''\n",
    "    ones = [1 for i in range(inc_size)]  # generate a list of 1s\n",
    "    zeros = [0 for i in range(vert - inc_size)]  # generate a list of 0s\n",
    "    ones.extend(zeros)  # append the 0s to the 1s\n",
    "#     return(set((permutations(ones))))  # return the permutations of the 1s and 0s\n",
    "    for row in ones:\n",
    "        for i in range(len(row)/2):\n",
    "            if row[i]:\n",
    "                if row[i+3]:\n",
    "                    print(\"bad\")\n",
    "                    print(row)\n",
    "                else:\n",
    "                    continue"
   ]
  },
  {
   "cell_type": "code",
   "execution_count": null,
   "metadata": {},
   "outputs": [],
   "source": [
    "generate_edges("
   ]
  },
  {
   "cell_type": "code",
   "execution_count": 31,
   "metadata": {},
   "outputs": [],
   "source": [
    "x = []\n",
    "for i in range(3):\n",
    "    x.extend(generate_edges(i+1,6))"
   ]
  },
  {
   "cell_type": "code",
   "execution_count": 52,
   "metadata": {},
   "outputs": [
    {
     "name": "stdout",
     "output_type": "stream",
     "text": [
      "bad\n",
      "(0, 1, 0, 0, 1, 0)\n",
      "bad\n",
      "(0, 0, 1, 0, 0, 1)\n",
      "bad\n",
      "(1, 0, 0, 1, 0, 0)\n",
      "bad\n",
      "(0, 1, 1, 0, 0, 1)\n",
      "bad\n",
      "(0, 1, 0, 1, 1, 0)\n",
      "bad\n",
      "(1, 1, 0, 0, 1, 0)\n",
      "bad\n",
      "(1, 0, 1, 1, 0, 0)\n",
      "bad\n",
      "(0, 1, 0, 0, 1, 1)\n",
      "bad\n",
      "(1, 0, 0, 1, 0, 1)\n",
      "bad\n",
      "(0, 0, 1, 1, 0, 1)\n",
      "bad\n",
      "(1, 1, 0, 1, 0, 0)\n",
      "bad\n",
      "(0, 1, 1, 0, 1, 0)\n",
      "bad\n",
      "(0, 0, 1, 0, 1, 1)\n",
      "bad\n",
      "(1, 0, 1, 0, 0, 1)\n",
      "bad\n",
      "(1, 0, 0, 1, 1, 0)\n"
     ]
    }
   ],
   "source": [
    "for row in x:\n",
    "    for i in range(len(row)/2):\n",
    "        if row[i]:\n",
    "            if row[i+3]:\n",
    "                print(\"bad\")\n",
    "                print(row)\n",
    "            else:\n",
    "                continue"
   ]
  },
  {
   "cell_type": "code",
   "execution_count": 54,
   "metadata": {},
   "outputs": [
    {
     "data": {
      "text/plain": [
       "15"
      ]
     },
     "execution_count": 54,
     "metadata": {},
     "output_type": "execute_result"
    }
   ],
   "source": [
    "len(bad)"
   ]
  },
  {
   "cell_type": "code",
   "execution_count": 55,
   "metadata": {},
   "outputs": [
    {
     "data": {
      "text/plain": [
       "41"
      ]
     },
     "execution_count": 55,
     "metadata": {},
     "output_type": "execute_result"
    }
   ],
   "source": [
    "len(x)"
   ]
  },
  {
   "cell_type": "code",
   "execution_count": null,
   "metadata": {},
   "outputs": [],
   "source": []
  }
 ],
 "metadata": {
  "kernelspec": {
   "display_name": "SageMath 8.1",
   "language": "",
   "name": "sagemath"
  },
  "language_info": {
   "codemirror_mode": {
    "name": "ipython",
    "version": 2
   },
   "file_extension": ".py",
   "mimetype": "text/x-python",
   "name": "python",
   "nbconvert_exporter": "python",
   "pygments_lexer": "ipython2",
   "version": "2.7.15rc1"
  }
 },
 "nbformat": 4,
 "nbformat_minor": 2
}
