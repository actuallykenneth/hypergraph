{
 "cells": [
  {
   "cell_type": "code",
   "execution_count": 466,
   "metadata": {},
   "outputs": [],
   "source": [
    "from collections import defaultdict\n",
    "\n",
    "class HyperGraph:\n",
    "    \n",
    "    nodes = {}\n",
    "    edges = {}\n",
    "    total_node_count = 0\n",
    "    total_edge_count = 0\n",
    "    the_node_counts = {}\n",
    "    the_edge_counts = {}\n",
    "    \n",
    "    def read_hypergraph_from_file(self, filename, sort_nodes=False):\n",
    "        '''Reads a hypergraph in from a file.\n",
    "        Format of a hypergraph in plaintext is: \"EDGE_NUMBER NODE,NODE,NODE\"\n",
    "        Note that there is a whitespace delimiting the edge from the comma delimited nodes\n",
    "\n",
    "        args: sort_nodes\n",
    "            Will sort the nodes in the list if this is set to true\n",
    "        '''\n",
    "        # initialize dictionaries that have empty lists as the default items\n",
    "        the_edges = defaultdict(list)\n",
    "        the_nodes = defaultdict(list)\n",
    "        the_node_counts = defaultdict(int)\n",
    "        the_edge_counts = defaultdict(int)\n",
    "        # read the contents of the graph file\n",
    "        file_contents = open(filename).readlines()\n",
    "        for line in file_contents:\n",
    "            # split the line into the node and the list of edges containing node\n",
    "            line_split = line.split(' ')\n",
    "            # first item delimited by whitespace is the node\n",
    "            node = line_split[0]\n",
    "            # second item is a comma delimited string of the edges containg node\n",
    "            edge_line = line_split[1].strip();\n",
    "            # split the string into a list of the edges\n",
    "            edge_list = edge_line.split(',')\n",
    "            # iterate through the edge list in the line\n",
    "            for edge in edge_list:\n",
    "                # build the dictionaries\n",
    "                the_nodes[node].append(edge)\n",
    "                # If it is an edgeless node, assign an empty list (length 0)\n",
    "                if edge == '':\n",
    "                    the_nodes[node] = []\n",
    "                the_edges[edge].append(node)\n",
    "                \n",
    "\n",
    "                # build a dictionary of the counts\n",
    "                the_node_counts[node] = len(the_nodes[node])\n",
    "                the_edge_counts[edge] = len(the_edges[edge])\n",
    "        \n",
    "        # Delete the lone vertices        \n",
    "        del the_edges['']\n",
    "        del the_edge_counts['']\n",
    "        \n",
    "        # set the fields\n",
    "        self.nodes = the_nodes\n",
    "        self.edges = the_edges\n",
    "        self.total_node_count = len(the_nodes)\n",
    "        self.total_edge_count = len(the_edges)\n",
    "        self.node_counts = the_node_counts\n",
    "        self.edge_counts = the_edge_counts\n"
   ]
  },
  {
   "cell_type": "code",
   "execution_count": 467,
   "metadata": {},
   "outputs": [
    {
     "data": {
      "text/plain": [
       "(defaultdict(list,\n",
       "             {'1': ['a', 'b', 'c'],\n",
       "              '2': ['a', 'b'],\n",
       "              '3': ['a', 'b', 'c', 'd'],\n",
       "              '4': [],\n",
       "              '5': ['e', 'd'],\n",
       "              '6': ['a', 'd', 'e']}),\n",
       " defaultdict(list,\n",
       "             {'a': ['1', '2', '3', '6'],\n",
       "              'b': ['1', '2', '3'],\n",
       "              'c': ['1', '3'],\n",
       "              'd': ['3', '5', '6'],\n",
       "              'e': ['5', '6']}),\n",
       " defaultdict(int, {'1': 3, '2': 2, '3': 4, '4': 0, '5': 2, '6': 3}),\n",
       " defaultdict(int, {'a': 4, 'b': 3, 'c': 2, 'd': 3, 'e': 2}),\n",
       " 6,\n",
       " 5)"
      ]
     },
     "execution_count": 467,
     "metadata": {},
     "output_type": "execute_result"
    }
   ],
   "source": [
    "HG1 = HyperGraph()\n",
    "HG1.read_hypergraph_from_file('hypergraph1.txt')\n",
    "HG1.nodes, HG1.edges, HG1.node_counts, HG1.edge_counts, HG1.total_node_count, HG1.total_edge_count"
   ]
  },
  {
   "cell_type": "code",
   "execution_count": 468,
   "metadata": {},
   "outputs": [
    {
     "data": {
      "text/plain": [
       "(defaultdict(list,\n",
       "             {'7': [],\n",
       "              '8': ['f', 'g', 'h'],\n",
       "              '9': ['f', 'g'],\n",
       "              '10': ['i', 'j'],\n",
       "              '11': ['f', 'g', 'h', 'i'],\n",
       "              '12': ['f', 'i', 'j']}),\n",
       " defaultdict(list,\n",
       "             {'f': ['8', '9', '11', '12'],\n",
       "              'g': ['8', '9', '11'],\n",
       "              'h': ['8', '11'],\n",
       "              'i': ['10', '11', '12'],\n",
       "              'j': ['10', '12']}),\n",
       " defaultdict(int, {'7': 0, '8': 3, '9': 2, '10': 2, '11': 4, '12': 3}),\n",
       " defaultdict(int, {'f': 4, 'g': 3, 'h': 2, 'i': 3, 'j': 2}),\n",
       " 6,\n",
       " 5)"
      ]
     },
     "execution_count": 468,
     "metadata": {},
     "output_type": "execute_result"
    }
   ],
   "source": [
    "HG2 = HyperGraph()\n",
    "HG2.read_hypergraph_from_file('hypergraph2.txt')\n",
    "HG2.nodes, HG2.edges, HG2.node_counts, HG2.edge_counts, HG2.total_node_count, HG2.total_edge_count"
   ]
  },
  {
   "cell_type": "code",
   "execution_count": 470,
   "metadata": {},
   "outputs": [],
   "source": [
    "HG3 = HyperGraph()\n",
    "HG3.read_hypergraph_from_file('hypergraph1.txt')\n"
   ]
  },
  {
   "cell_type": "code",
   "execution_count": 457,
   "metadata": {},
   "outputs": [],
   "source": [
    "for k, j in zip(HG1.edges, HG2.edges):\n",
    "    HG1.edges[j] = HG2.edges[j]\n",
    "    del HG1.edges[k]\n",
    "HG1"
   ]
  },
  {
   "cell_type": "code",
   "execution_count": 111,
   "metadata": {},
   "outputs": [],
   "source": [
    "def create_subgraphs(hg):\n",
    "    '''Takes a hypergraph and returns a list of all subgraphs with one row removed'''\n",
    "    subGraphs = []\n",
    "    for i in range(len(hg)):\n",
    "        d = list.copy(hg)\n",
    "        d.pop(i)\n",
    "        subGraphs.append(d)\n",
    "    return subGraphs"
   ]
  },
  {
   "cell_type": "code",
   "execution_count": 458,
   "metadata": {},
   "outputs": [
    {
     "data": {
      "text/plain": [
       "defaultdict(list,\n",
       "            {'f': ['8', '9', '11', '12'],\n",
       "             'g': ['8', '9', '11'],\n",
       "             'h': ['8', '11'],\n",
       "             'i': ['10', '11', '12'],\n",
       "             'j': ['10', '12']})"
      ]
     },
     "execution_count": 458,
     "metadata": {},
     "output_type": "execute_result"
    }
   ],
   "source": []
  },
  {
   "cell_type": "code",
   "execution_count": 475,
   "metadata": {},
   "outputs": [
    {
     "data": {
      "text/plain": [
       "[('a', 'b', 'c', 'd', 'e'),\n",
       " ('a', 'b', 'c', 'e', 'd'),\n",
       " ('a', 'b', 'd', 'c', 'e'),\n",
       " ('a', 'b', 'd', 'e', 'c'),\n",
       " ('a', 'b', 'e', 'c', 'd'),\n",
       " ('a', 'b', 'e', 'd', 'c'),\n",
       " ('a', 'c', 'b', 'd', 'e'),\n",
       " ('a', 'c', 'b', 'e', 'd'),\n",
       " ('a', 'c', 'd', 'b', 'e'),\n",
       " ('a', 'c', 'd', 'e', 'b'),\n",
       " ('a', 'c', 'e', 'b', 'd'),\n",
       " ('a', 'c', 'e', 'd', 'b'),\n",
       " ('a', 'd', 'b', 'c', 'e'),\n",
       " ('a', 'd', 'b', 'e', 'c'),\n",
       " ('a', 'd', 'c', 'b', 'e'),\n",
       " ('a', 'd', 'c', 'e', 'b'),\n",
       " ('a', 'd', 'e', 'b', 'c'),\n",
       " ('a', 'd', 'e', 'c', 'b'),\n",
       " ('a', 'e', 'b', 'c', 'd'),\n",
       " ('a', 'e', 'b', 'd', 'c'),\n",
       " ('a', 'e', 'c', 'b', 'd'),\n",
       " ('a', 'e', 'c', 'd', 'b'),\n",
       " ('a', 'e', 'd', 'b', 'c'),\n",
       " ('a', 'e', 'd', 'c', 'b'),\n",
       " ('b', 'a', 'c', 'd', 'e'),\n",
       " ('b', 'a', 'c', 'e', 'd'),\n",
       " ('b', 'a', 'd', 'c', 'e'),\n",
       " ('b', 'a', 'd', 'e', 'c'),\n",
       " ('b', 'a', 'e', 'c', 'd'),\n",
       " ('b', 'a', 'e', 'd', 'c'),\n",
       " ('b', 'c', 'a', 'd', 'e'),\n",
       " ('b', 'c', 'a', 'e', 'd'),\n",
       " ('b', 'c', 'd', 'a', 'e'),\n",
       " ('b', 'c', 'd', 'e', 'a'),\n",
       " ('b', 'c', 'e', 'a', 'd'),\n",
       " ('b', 'c', 'e', 'd', 'a'),\n",
       " ('b', 'd', 'a', 'c', 'e'),\n",
       " ('b', 'd', 'a', 'e', 'c'),\n",
       " ('b', 'd', 'c', 'a', 'e'),\n",
       " ('b', 'd', 'c', 'e', 'a'),\n",
       " ('b', 'd', 'e', 'a', 'c'),\n",
       " ('b', 'd', 'e', 'c', 'a'),\n",
       " ('b', 'e', 'a', 'c', 'd'),\n",
       " ('b', 'e', 'a', 'd', 'c'),\n",
       " ('b', 'e', 'c', 'a', 'd'),\n",
       " ('b', 'e', 'c', 'd', 'a'),\n",
       " ('b', 'e', 'd', 'a', 'c'),\n",
       " ('b', 'e', 'd', 'c', 'a'),\n",
       " ('c', 'a', 'b', 'd', 'e'),\n",
       " ('c', 'a', 'b', 'e', 'd'),\n",
       " ('c', 'a', 'd', 'b', 'e'),\n",
       " ('c', 'a', 'd', 'e', 'b'),\n",
       " ('c', 'a', 'e', 'b', 'd'),\n",
       " ('c', 'a', 'e', 'd', 'b'),\n",
       " ('c', 'b', 'a', 'd', 'e'),\n",
       " ('c', 'b', 'a', 'e', 'd'),\n",
       " ('c', 'b', 'd', 'a', 'e'),\n",
       " ('c', 'b', 'd', 'e', 'a'),\n",
       " ('c', 'b', 'e', 'a', 'd'),\n",
       " ('c', 'b', 'e', 'd', 'a'),\n",
       " ('c', 'd', 'a', 'b', 'e'),\n",
       " ('c', 'd', 'a', 'e', 'b'),\n",
       " ('c', 'd', 'b', 'a', 'e'),\n",
       " ('c', 'd', 'b', 'e', 'a'),\n",
       " ('c', 'd', 'e', 'a', 'b'),\n",
       " ('c', 'd', 'e', 'b', 'a'),\n",
       " ('c', 'e', 'a', 'b', 'd'),\n",
       " ('c', 'e', 'a', 'd', 'b'),\n",
       " ('c', 'e', 'b', 'a', 'd'),\n",
       " ('c', 'e', 'b', 'd', 'a'),\n",
       " ('c', 'e', 'd', 'a', 'b'),\n",
       " ('c', 'e', 'd', 'b', 'a'),\n",
       " ('d', 'a', 'b', 'c', 'e'),\n",
       " ('d', 'a', 'b', 'e', 'c'),\n",
       " ('d', 'a', 'c', 'b', 'e'),\n",
       " ('d', 'a', 'c', 'e', 'b'),\n",
       " ('d', 'a', 'e', 'b', 'c'),\n",
       " ('d', 'a', 'e', 'c', 'b'),\n",
       " ('d', 'b', 'a', 'c', 'e'),\n",
       " ('d', 'b', 'a', 'e', 'c'),\n",
       " ('d', 'b', 'c', 'a', 'e'),\n",
       " ('d', 'b', 'c', 'e', 'a'),\n",
       " ('d', 'b', 'e', 'a', 'c'),\n",
       " ('d', 'b', 'e', 'c', 'a'),\n",
       " ('d', 'c', 'a', 'b', 'e'),\n",
       " ('d', 'c', 'a', 'e', 'b'),\n",
       " ('d', 'c', 'b', 'a', 'e'),\n",
       " ('d', 'c', 'b', 'e', 'a'),\n",
       " ('d', 'c', 'e', 'a', 'b'),\n",
       " ('d', 'c', 'e', 'b', 'a'),\n",
       " ('d', 'e', 'a', 'b', 'c'),\n",
       " ('d', 'e', 'a', 'c', 'b'),\n",
       " ('d', 'e', 'b', 'a', 'c'),\n",
       " ('d', 'e', 'b', 'c', 'a'),\n",
       " ('d', 'e', 'c', 'a', 'b'),\n",
       " ('d', 'e', 'c', 'b', 'a'),\n",
       " ('e', 'a', 'b', 'c', 'd'),\n",
       " ('e', 'a', 'b', 'd', 'c'),\n",
       " ('e', 'a', 'c', 'b', 'd'),\n",
       " ('e', 'a', 'c', 'd', 'b'),\n",
       " ('e', 'a', 'd', 'b', 'c'),\n",
       " ('e', 'a', 'd', 'c', 'b'),\n",
       " ('e', 'b', 'a', 'c', 'd'),\n",
       " ('e', 'b', 'a', 'd', 'c'),\n",
       " ('e', 'b', 'c', 'a', 'd'),\n",
       " ('e', 'b', 'c', 'd', 'a'),\n",
       " ('e', 'b', 'd', 'a', 'c'),\n",
       " ('e', 'b', 'd', 'c', 'a'),\n",
       " ('e', 'c', 'a', 'b', 'd'),\n",
       " ('e', 'c', 'a', 'd', 'b'),\n",
       " ('e', 'c', 'b', 'a', 'd'),\n",
       " ('e', 'c', 'b', 'd', 'a'),\n",
       " ('e', 'c', 'd', 'a', 'b'),\n",
       " ('e', 'c', 'd', 'b', 'a'),\n",
       " ('e', 'd', 'a', 'b', 'c'),\n",
       " ('e', 'd', 'a', 'c', 'b'),\n",
       " ('e', 'd', 'b', 'a', 'c'),\n",
       " ('e', 'd', 'b', 'c', 'a'),\n",
       " ('e', 'd', 'c', 'a', 'b'),\n",
       " ('e', 'd', 'c', 'b', 'a')]"
      ]
     },
     "execution_count": 475,
     "metadata": {},
     "output_type": "execute_result"
    }
   ],
   "source": [
    "from itertools import permutations\n",
    "list(permutations(HG1.edges))"
   ]
  },
  {
   "cell_type": "code",
   "execution_count": 477,
   "metadata": {},
   "outputs": [
    {
     "data": {
      "text/plain": [
       "720"
      ]
     },
     "execution_count": 477,
     "metadata": {},
     "output_type": "execute_result"
    }
   ],
   "source": [
    "len(list(permutations(HG1.nodes)))"
   ]
  },
  {
   "cell_type": "code",
   "execution_count": null,
   "metadata": {},
   "outputs": [],
   "source": []
  }
 ],
 "metadata": {
  "kernelspec": {
   "display_name": "Python 3",
   "language": "python",
   "name": "python3"
  },
  "language_info": {
   "codemirror_mode": {
    "name": "ipython",
    "version": 3
   },
   "file_extension": ".py",
   "mimetype": "text/x-python",
   "name": "python",
   "nbconvert_exporter": "python",
   "pygments_lexer": "ipython3",
   "version": "3.6.5"
  }
 },
 "nbformat": 4,
 "nbformat_minor": 2
}
