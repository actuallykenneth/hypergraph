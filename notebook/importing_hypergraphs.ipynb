{
 "cells": [
  {
   "cell_type": "code",
   "execution_count": 110,
   "metadata": {},
   "outputs": [],
   "source": [
    "def read_hypergraph_from_file(filename, sort_nodes=False):\n",
    "    '''Reads a hypergraph in from a file.\n",
    "    Format of a hypergraph in plaintext is: \"EDGE_NUMBER NODE,NODE,NODE\"\n",
    "    Note that there is a whitespace delimiting the edge from the comma delimited nodes\n",
    "    \n",
    "    args: sort_nodes\n",
    "        Will sort the nodes in the list if this is set to true\n",
    "    '''\n",
    "    my_hyper_graph = []\n",
    "    description = open(filename).readlines()\n",
    "    for line in description:\n",
    "        edge = int(line.split(' ')[0])\n",
    "        nodes = list(map(int, line.split(' ')[1].strip().split(',')))\n",
    "        if sort_nodes:\n",
    "            nodes.sort()\n",
    "        my_hyper_graph.append([edge,nodes])\n",
    "    return my_hyper_graph"
   ]
  },
  {
   "cell_type": "code",
   "execution_count": 111,
   "metadata": {},
   "outputs": [],
   "source": [
    "def create_subgraphs(hg):\n",
    "    '''Takes a hypergraph and returns a list of all subgraphs with one row removed'''\n",
    "    subGraphs = []\n",
    "    for i in range(len(hg)):\n",
    "        d = list.copy(hg)\n",
    "        d.pop(i)\n",
    "        subGraphs.append(d)\n",
    "    return subGraphs"
   ]
  },
  {
   "cell_type": "code",
   "execution_count": 121,
   "metadata": {},
   "outputs": [
    {
     "name": "stdout",
     "output_type": "stream",
     "text": [
      "1 1,2,3\r\n",
      "2 2,3,4\r\n",
      "3 4,5\r\n",
      "4 1,3,5\r\n",
      "5 2,4,5\r\n",
      "6 4,5,1\r\n",
      "7 2,3,4\r\n",
      "8 1,5\r\n",
      "9 2,3,4"
     ]
    }
   ],
   "source": [
    "# This is what a text file containing the definition of a hypergraph would look like\n",
    "!cat hypergraph.txt"
   ]
  },
  {
   "cell_type": "code",
   "execution_count": 122,
   "metadata": {},
   "outputs": [
    {
     "data": {
      "text/plain": [
       "[[1, [1, 2, 3]],\n",
       " [2, [2, 3, 4]],\n",
       " [3, [4, 5]],\n",
       " [4, [1, 3, 5]],\n",
       " [5, [2, 4, 5]],\n",
       " [6, [1, 4, 5]],\n",
       " [7, [2, 3, 4]],\n",
       " [8, [1, 5]],\n",
       " [9, [2, 3, 4]]]"
      ]
     },
     "execution_count": 122,
     "metadata": {},
     "output_type": "execute_result"
    }
   ],
   "source": [
    "# Read the hypergraph.txt\n",
    "hypergraph = read_hypergraph_from_file('hypergraph.txt', sort_nodes=True)\n",
    "\n",
    "# This is what it looks like represented as a list of lists\n",
    "hypergraph"
   ]
  },
  {
   "cell_type": "code",
   "execution_count": 123,
   "metadata": {},
   "outputs": [
    {
     "data": {
      "text/plain": [
       "[[[2, [2, 3, 4]],\n",
       "  [3, [4, 5]],\n",
       "  [4, [1, 3, 5]],\n",
       "  [5, [2, 4, 5]],\n",
       "  [6, [1, 4, 5]],\n",
       "  [7, [2, 3, 4]],\n",
       "  [8, [1, 5]],\n",
       "  [9, [2, 3, 4]]],\n",
       " [[1, [1, 2, 3]],\n",
       "  [3, [4, 5]],\n",
       "  [4, [1, 3, 5]],\n",
       "  [5, [2, 4, 5]],\n",
       "  [6, [1, 4, 5]],\n",
       "  [7, [2, 3, 4]],\n",
       "  [8, [1, 5]],\n",
       "  [9, [2, 3, 4]]],\n",
       " [[1, [1, 2, 3]],\n",
       "  [2, [2, 3, 4]],\n",
       "  [4, [1, 3, 5]],\n",
       "  [5, [2, 4, 5]],\n",
       "  [6, [1, 4, 5]],\n",
       "  [7, [2, 3, 4]],\n",
       "  [8, [1, 5]],\n",
       "  [9, [2, 3, 4]]],\n",
       " [[1, [1, 2, 3]],\n",
       "  [2, [2, 3, 4]],\n",
       "  [3, [4, 5]],\n",
       "  [5, [2, 4, 5]],\n",
       "  [6, [1, 4, 5]],\n",
       "  [7, [2, 3, 4]],\n",
       "  [8, [1, 5]],\n",
       "  [9, [2, 3, 4]]],\n",
       " [[1, [1, 2, 3]],\n",
       "  [2, [2, 3, 4]],\n",
       "  [3, [4, 5]],\n",
       "  [4, [1, 3, 5]],\n",
       "  [6, [1, 4, 5]],\n",
       "  [7, [2, 3, 4]],\n",
       "  [8, [1, 5]],\n",
       "  [9, [2, 3, 4]]],\n",
       " [[1, [1, 2, 3]],\n",
       "  [2, [2, 3, 4]],\n",
       "  [3, [4, 5]],\n",
       "  [4, [1, 3, 5]],\n",
       "  [5, [2, 4, 5]],\n",
       "  [7, [2, 3, 4]],\n",
       "  [8, [1, 5]],\n",
       "  [9, [2, 3, 4]]],\n",
       " [[1, [1, 2, 3]],\n",
       "  [2, [2, 3, 4]],\n",
       "  [3, [4, 5]],\n",
       "  [4, [1, 3, 5]],\n",
       "  [5, [2, 4, 5]],\n",
       "  [6, [1, 4, 5]],\n",
       "  [8, [1, 5]],\n",
       "  [9, [2, 3, 4]]],\n",
       " [[1, [1, 2, 3]],\n",
       "  [2, [2, 3, 4]],\n",
       "  [3, [4, 5]],\n",
       "  [4, [1, 3, 5]],\n",
       "  [5, [2, 4, 5]],\n",
       "  [6, [1, 4, 5]],\n",
       "  [7, [2, 3, 4]],\n",
       "  [9, [2, 3, 4]]],\n",
       " [[1, [1, 2, 3]],\n",
       "  [2, [2, 3, 4]],\n",
       "  [3, [4, 5]],\n",
       "  [4, [1, 3, 5]],\n",
       "  [5, [2, 4, 5]],\n",
       "  [6, [1, 4, 5]],\n",
       "  [7, [2, 3, 4]],\n",
       "  [8, [1, 5]]]]"
      ]
     },
     "execution_count": 123,
     "metadata": {},
     "output_type": "execute_result"
    }
   ],
   "source": [
    "# Get all the subgraphs of it\n",
    "sublists = create_subgraphs(hypergraph)\n",
    "\n",
    "# This is what the list of subgraphs looks like\n",
    "sublists"
   ]
  }
 ],
 "metadata": {
  "kernelspec": {
   "display_name": "Python 3",
   "language": "python",
   "name": "python3"
  },
  "language_info": {
   "codemirror_mode": {
    "name": "ipython",
    "version": 3
   },
   "file_extension": ".py",
   "mimetype": "text/x-python",
   "name": "python",
   "nbconvert_exporter": "python",
   "pygments_lexer": "ipython3",
   "version": "3.6.5"
  }
 },
 "nbformat": 4,
 "nbformat_minor": 2
}
